{
 "cells": [
  {
   "cell_type": "markdown",
   "metadata": {},
   "source": [
    "# Borneo Probabilistic Risk Assessment\n",
    "\n",
    "This notebook performs a probabilistic risk assessment of chemicals found in oil palm plantations in Borneo."
   ]
  },
  {
   "cell_type": "markdown",
   "metadata": {},
   "source": [
    "## Setup\n",
    "\n",
    "Load the required libraries and set some useful variables."
   ]
  },
  {
   "cell_type": "code",
   "execution_count": 1,
   "metadata": {},
   "outputs": [],
   "source": [
    "import numpy as np\n",
    "from scipy import stats\n",
    "from scipy import interpolate\n",
    "import scipy.spatial.distance\n",
    "import pandas as pd\n",
    "import matplotlib.pyplot as plt\n",
    "import matplotlib.patheffects as pe\n",
    "rcParams_default = plt.rcParams.copy()\n",
    "from ipywidgets import interact, widgets\n",
    "from matplotlib.patches import Rectangle\n",
    "import plotly.express as px\n",
    "\n",
    "# Setting some important variables\n",
    "compartments = ['water', 'soil']\n",
    "units = {'water': 'μg/L', 'soil': 'mg/kg'}\n",
    "n_iterations = 10000\n",
    "min_n_tox_datapoints = 9\n",
    "min_mec_datapoints = 3\n",
    "\n",
    "# Run the data parsing notebook to import the parse_data function\n",
    "%run ./data-parsing.ipynb"
   ]
  },
  {
   "cell_type": "markdown",
   "metadata": {},
   "source": [
    "Install R packages and load the rpy2 extension. This only needs to be done once."
   ]
  },
  {
   "cell_type": "code",
   "execution_count": 2,
   "metadata": {
    "collapsed": true,
    "jupyter": {
     "outputs_hidden": true
    },
    "tags": []
   },
   "outputs": [
    {
     "name": "stderr",
     "output_type": "stream",
     "text": [
      "R[write to console]: trying URL 'https://cloud.r-project.org/src/contrib/trapezoid_2.0-2.tar.gz'\n",
      "\n",
      "R[write to console]: Content type 'application/x-gzip'\n",
      "R[write to console]:  length 153188 bytes (149 KB)\n",
      "\n",
      "R[write to console]: =\n",
      "R[write to console]: =\n",
      "R[write to console]: =\n",
      "R[write to console]: =\n",
      "R[write to console]: =\n",
      "R[write to console]: =\n",
      "R[write to console]: =\n",
      "R[write to console]: =\n",
      "R[write to console]: =\n",
      "R[write to console]: =\n",
      "R[write to console]: =\n",
      "R[write to console]: =\n",
      "R[write to console]: =\n",
      "R[write to console]: =\n",
      "R[write to console]: =\n",
      "R[write to console]: =\n",
      "R[write to console]: =\n",
      "R[write to console]: =\n",
      "R[write to console]: =\n",
      "R[write to console]: =\n",
      "R[write to console]: =\n",
      "R[write to console]: =\n",
      "R[write to console]: =\n",
      "R[write to console]: =\n",
      "R[write to console]: =\n",
      "R[write to console]: =\n",
      "R[write to console]: =\n",
      "R[write to console]: =\n",
      "R[write to console]: =\n",
      "R[write to console]: =\n",
      "R[write to console]: =\n",
      "R[write to console]: =\n",
      "R[write to console]: =\n",
      "R[write to console]: =\n",
      "R[write to console]: =\n",
      "R[write to console]: =\n",
      "R[write to console]: =\n",
      "R[write to console]: =\n",
      "R[write to console]: =\n",
      "R[write to console]: =\n",
      "R[write to console]: =\n",
      "R[write to console]: =\n",
      "R[write to console]: =\n",
      "R[write to console]: =\n",
      "R[write to console]: =\n",
      "R[write to console]: =\n",
      "R[write to console]: =\n",
      "R[write to console]: =\n",
      "R[write to console]: =\n",
      "R[write to console]: =\n",
      "R[write to console]: \n",
      "\n",
      "R[write to console]: downloaded 149 KB\n",
      "\n",
      "\n",
      "R[write to console]: trying URL 'https://cloud.r-project.org/src/contrib/mc2d_0.2.0.tar.gz'\n",
      "\n",
      "R[write to console]: Content type 'application/x-gzip'\n",
      "R[write to console]:  length 1360766 bytes (1.3 MB)\n",
      "\n",
      "R[write to console]: =\n",
      "R[write to console]: =\n",
      "R[write to console]: =\n",
      "R[write to console]: =\n",
      "R[write to console]: =\n",
      "R[write to console]: =\n",
      "R[write to console]: =\n",
      "R[write to console]: =\n",
      "R[write to console]: =\n",
      "R[write to console]: =\n",
      "R[write to console]: =\n",
      "R[write to console]: =\n",
      "R[write to console]: =\n",
      "R[write to console]: =\n",
      "R[write to console]: =\n",
      "R[write to console]: =\n",
      "R[write to console]: =\n",
      "R[write to console]: =\n",
      "R[write to console]: =\n",
      "R[write to console]: =\n",
      "R[write to console]: =\n",
      "R[write to console]: =\n",
      "R[write to console]: =\n",
      "R[write to console]: =\n",
      "R[write to console]: =\n",
      "R[write to console]: =\n",
      "R[write to console]: =\n",
      "R[write to console]: =\n",
      "R[write to console]: =\n",
      "R[write to console]: =\n",
      "R[write to console]: =\n",
      "R[write to console]: =\n",
      "R[write to console]: =\n",
      "R[write to console]: =\n",
      "R[write to console]: =\n",
      "R[write to console]: =\n",
      "R[write to console]: =\n",
      "R[write to console]: =\n",
      "R[write to console]: =\n",
      "R[write to console]: =\n",
      "R[write to console]: =\n",
      "R[write to console]: =\n",
      "R[write to console]: =\n",
      "R[write to console]: =\n",
      "R[write to console]: =\n",
      "R[write to console]: =\n",
      "R[write to console]: =\n",
      "R[write to console]: =\n",
      "R[write to console]: =\n",
      "R[write to console]: =\n",
      "R[write to console]: \n",
      "\n",
      "R[write to console]: downloaded 1.3 MB\n",
      "\n",
      "\n",
      "R[write to console]: trying URL 'https://cloud.r-project.org/src/contrib/ggplot2_3.4.3.tar.gz'\n",
      "\n",
      "R[write to console]: Content type 'application/x-gzip'\n",
      "R[write to console]:  length 2190947 bytes (2.1 MB)\n",
      "\n",
      "R[write to console]: =\n",
      "R[write to console]: =\n",
      "R[write to console]: =\n",
      "R[write to console]: =\n",
      "R[write to console]: =\n",
      "R[write to console]: =\n",
      "R[write to console]: =\n",
      "R[write to console]: =\n",
      "R[write to console]: =\n",
      "R[write to console]: =\n",
      "R[write to console]: =\n",
      "R[write to console]: =\n",
      "R[write to console]: =\n",
      "R[write to console]: =\n",
      "R[write to console]: =\n",
      "R[write to console]: =\n",
      "R[write to console]: =\n",
      "R[write to console]: =\n",
      "R[write to console]: =\n",
      "R[write to console]: =\n",
      "R[write to console]: =\n",
      "R[write to console]: =\n",
      "R[write to console]: =\n",
      "R[write to console]: =\n",
      "R[write to console]: =\n",
      "R[write to console]: =\n",
      "R[write to console]: =\n",
      "R[write to console]: =\n",
      "R[write to console]: =\n",
      "R[write to console]: =\n",
      "R[write to console]: =\n",
      "R[write to console]: =\n",
      "R[write to console]: =\n",
      "R[write to console]: =\n",
      "R[write to console]: =\n",
      "R[write to console]: =\n",
      "R[write to console]: =\n",
      "R[write to console]: =\n",
      "R[write to console]: =\n",
      "R[write to console]: =\n",
      "R[write to console]: =\n",
      "R[write to console]: =\n",
      "R[write to console]: =\n",
      "R[write to console]: =\n",
      "R[write to console]: =\n",
      "R[write to console]: =\n",
      "R[write to console]: =\n",
      "R[write to console]: =\n",
      "R[write to console]: =\n",
      "R[write to console]: =\n",
      "R[write to console]: \n",
      "\n",
      "R[write to console]: downloaded 2.1 MB\n",
      "\n",
      "\n",
      "* installing *source* package ‘trapezoid’ ...\n",
      "** package ‘trapezoid’ successfully unpacked and MD5 sums checked\n",
      "** using staged installation\n",
      "** libs\n"
     ]
    },
    {
     "name": "stdout",
     "output_type": "stream",
     "text": [
      "x86_64-conda-linux-gnu-cc -I\"/home/sharrison/miniconda3/envs/borneo/lib/R/include\" -DNDEBUG   -DNDEBUG -D_FORTIFY_SOURCE=2 -O2 -isystem /home/sharrison/miniconda3/envs/borneo/include -I/home/sharrison/miniconda3/envs/borneo/include -Wl,-rpath-link,/home/sharrison/miniconda3/envs/borneo/lib   -fpic  -march=nocona -mtune=haswell -ftree-vectorize -fPIC -fstack-protector-strong -fno-plt -O2 -ffunction-sections -pipe -isystem /home/sharrison/miniconda3/envs/borneo/include -fdebug-prefix-map=/home/conda/feedstock_root/build_artifacts/r-base-split_1671440533574/work=/usr/local/src/conda/r-base-4.2.2 -fdebug-prefix-map=/home/sharrison/miniconda3/envs/borneo=/usr/local/src/conda-prefix  -c trapezoid.c -o trapezoid.o\n",
      "x86_64-conda-linux-gnu-cc -I\"/home/sharrison/miniconda3/envs/borneo/lib/R/include\" -DNDEBUG   -DNDEBUG -D_FORTIFY_SOURCE=2 -O2 -isystem /home/sharrison/miniconda3/envs/borneo/include -I/home/sharrison/miniconda3/envs/borneo/include -Wl,-rpath-link,/home/sharrison/miniconda3/envs/borneo/lib   -fpic  -march=nocona -mtune=haswell -ftree-vectorize -fPIC -fstack-protector-strong -fno-plt -O2 -ffunction-sections -pipe -isystem /home/sharrison/miniconda3/envs/borneo/include -fdebug-prefix-map=/home/conda/feedstock_root/build_artifacts/r-base-split_1671440533574/work=/usr/local/src/conda/r-base-4.2.2 -fdebug-prefix-map=/home/sharrison/miniconda3/envs/borneo=/usr/local/src/conda-prefix  -c trapezoif_init.c -o trapezoif_init.o\n",
      "x86_64-conda-linux-gnu-cc -shared -L/home/sharrison/miniconda3/envs/borneo/lib/R/lib -Wl,-O2 -Wl,--sort-common -Wl,--as-needed -Wl,-z,relro -Wl,-z,now -Wl,--disable-new-dtags -Wl,--gc-sections -Wl,--allow-shlib-undefined -Wl,-rpath,/home/sharrison/miniconda3/envs/borneo/lib -Wl,-rpath-link,/home/sharrison/miniconda3/envs/borneo/lib -L/home/sharrison/miniconda3/envs/borneo/lib -o trapezoid.so trapezoid.o trapezoif_init.o -L/home/sharrison/miniconda3/envs/borneo/lib/R/lib -lR\n"
     ]
    },
    {
     "name": "stderr",
     "output_type": "stream",
     "text": [
      "installing to /home/sharrison/miniconda3/envs/borneo/lib/R/library/00LOCK-trapezoid/00new/trapezoid/libs\n",
      "** R\n",
      "** inst\n",
      "** byte-compile and prepare package for lazy loading\n",
      "** help\n",
      "*** installing help indices\n",
      "** building package indices\n",
      "** installing vignettes\n",
      "** testing if installed package can be loaded from temporary location\n",
      "** checking absolute paths in shared objects and dynamic libraries\n",
      "** testing if installed package can be loaded from final location\n",
      "** testing if installed package keeps a record of temporary installation path\n",
      "* DONE (trapezoid)\n",
      "* installing *source* package ‘ggplot2’ ...\n",
      "** package ‘ggplot2’ successfully unpacked and MD5 sums checked\n",
      "** using staged installation\n",
      "** R\n",
      "** data\n",
      "*** moving datasets to lazyload DB\n",
      "** inst\n",
      "** byte-compile and prepare package for lazy loading\n",
      "** help\n",
      "*** installing help indices\n",
      "*** copying figures\n",
      "** building package indices\n",
      "** installing vignettes\n",
      "** testing if installed package can be loaded from temporary location\n",
      "** testing if installed package can be loaded from final location\n",
      "** testing if installed package keeps a record of temporary installation path\n",
      "* DONE (ggplot2)\n",
      "* installing *source* package ‘mc2d’ ...\n",
      "** package ‘mc2d’ successfully unpacked and MD5 sums checked\n",
      "** using staged installation\n",
      "** R\n",
      "** data\n",
      "** inst\n",
      "** byte-compile and prepare package for lazy loading\n",
      "** help\n",
      "*** installing help indices\n",
      "** building package indices\n",
      "** installing vignettes\n",
      "** testing if installed package can be loaded from temporary location\n",
      "** testing if installed package can be loaded from final location\n",
      "** testing if installed package keeps a record of temporary installation path\n",
      "* DONE (mc2d)\n",
      "R[write to console]: \n",
      "\n",
      "R[write to console]: \n",
      "R[write to console]: The downloaded source packages are in\n",
      "\t‘/tmp/Rtmp7gvDc6/downloaded_packages’\n",
      "R[write to console]: \n",
      "R[write to console]: \n",
      "\n",
      "R[write to console]: Updating HTML index of packages in '.Library'\n",
      "\n",
      "R[write to console]: Making 'packages.html' ...\n",
      "R[write to console]:  done\n",
      "\n"
     ]
    }
   ],
   "source": [
    "import rpy2.robjects.packages as rpackages\n",
    "import rpy2.robjects.numpy2ri\n",
    "from rpy2.robjects.vectors import StrVector\n",
    "\n",
    "# Make NumPy work\n",
    "rpy2.robjects.numpy2ri.activate()\n",
    "\n",
    "# Import R's utility package\n",
    "utils = rpackages.importr('utils')\n",
    "\n",
    "# Select CRAN mirror for R packages\n",
    "utils.chooseCRANmirror(ind=1)\n",
    "\n",
    "# R package names\n",
    "packnames = ('trapezoid', 'mc2d', 'ggplot2')\n",
    "\n",
    "# Install the packages\n",
    "utils.install_packages(StrVector(packnames))\n",
    "    \n",
    "%load_ext rpy2.ipython"
   ]
  },
  {
   "cell_type": "markdown",
   "metadata": {
    "tags": []
   },
   "source": [
    "## Parse the data\n",
    "\n",
    "We call the `parse_data` function from the [data-parsing.ipynb](./data-parsing.ipynb) notebook to load, clean and filter the data, ready for use in the risk assessment."
   ]
  },
  {
   "cell_type": "code",
   "execution_count": 4,
   "metadata": {
    "tags": []
   },
   "outputs": [
    {
     "name": "stderr",
     "output_type": "stream",
     "text": [
      "/tmp/ipykernel_1278467/1180599486.py:82: DeprecationWarning: In a future version, `df.iloc[:, i] = newvals` will attempt to set the values inplace instead of always setting a new array. To retain the old behavior, use either `df[df.columns[i]] = newvals` or, if columns are non-unique, `df.isetitem(i, newvals)`\n",
      "  df_tox_f['water'].loc[:,'Exposure Duration (h)'] = pd.to_numeric(\n"
     ]
    }
   ],
   "source": [
    "# Path to the files\n",
    "mec_filepath = '../data/Oil_palm_chemicals_environmental_concentrations_Checked.xlsx'\n",
    "tox_filepath = '../data/Tox data_HCvalues_March_Checked.xlsx'\n",
    "\n",
    "# Parse the data\n",
    "df_mec, df_tox = parse_data(mec_filepath, tox_filepath)"
   ]
  },
  {
   "cell_type": "markdown",
   "metadata": {},
   "source": [
    "## Applying uncertainty factors\n",
    "\n",
    "We apply a number of uncertainty factors to the data points:\n",
    "- $U_{DD}$ - dose descriptor uncertainty factors converts a given dose descriptor to NOEC. [Wigger et al, 2019](https://doi.org/10.1002/ieam.4214) uses $U_{DD} = 10$ to convert LC50s to NOECs. See Table 3.\n",
    "- $U_{t}$ - correct for exposure duration to convert accute to chronic values. See [Wigger et al, 2019](https://doi.org/10.1002/ieam.4214) Table 2.\n",
    "\n",
    "Coefficients of variation are used to construct distributions. $CV_{DP}$ is used to account for interlaboratory variability. $CV_{UF}$ is used to account for uncertainty in using non-substance-specific uncertainty factors."
   ]
  },
  {
   "cell_type": "code",
   "execution_count": 5,
   "metadata": {},
   "outputs": [],
   "source": [
    "u_dd = 10\n",
    "u_t = 10\n",
    "cv_dp = 0.3\n",
    "cv_uf = 0.5\n",
    "\n",
    "# Correct the data using the uncertainty factors\n",
    "for c in compartments:\n",
    "    df_tox[c]['tox_conv'] = df_tox[c]['LC50'] / (u_dd * u_t)"
   ]
  },
  {
   "cell_type": "markdown",
   "metadata": {},
   "source": [
    "## Grouping by chemical and species\n",
    "\n",
    "We now group the data by chemical and species to get lists of chemicals and species to perform the assessment for."
   ]
  },
  {
   "cell_type": "code",
   "execution_count": 6,
   "metadata": {},
   "outputs": [],
   "source": [
    "mec_chem_names = {}\n",
    "tox_chem_names = {}\n",
    "species_names = {}\n",
    "s_taxa = {}\n",
    "\n",
    "# Get the list of chemical and species names for soils and waters\n",
    "for c in compartments:\n",
    "    # Get the list of taxa\n",
    "    s_taxa[c] = df_tox[c]['Taxa'].drop_duplicates().reset_index(drop=True)\n",
    "    # Get the list of chemical names with more than one row sorted by amount of data\n",
    "    mec_gb = df_mec[c].groupby('chemical') \\\n",
    "                      .size() \\\n",
    "                      .sort_values(ascending=False)\n",
    "    # Filter to include only chemicals that have more than the min number of MECs\n",
    "    mec_gb = mec_gb[mec_gb >= min_mec_datapoints]\n",
    "    # Get the names as an array\n",
    "    mec_chem_names[c] = mec_gb.keys().values\n",
    "    \n",
    "    # Do the same for the tox data\n",
    "    tox_gb = df_tox[c].groupby('Chemical') \\\n",
    "                      .agg(size=('tox_conv', 'count'),\n",
    "                           nunique=('tox_conv', 'nunique')) \\\n",
    "                      .sort_values(ascending=False, by='size')\n",
    "    # Filter to include only chemicals that have more than the min numbers of tox values\n",
    "    tox_gb = tox_gb[(tox_gb['size'] >= min_n_tox_datapoints) & (tox_gb['nunique'] >= min_n_tox_datapoints)]\n",
    "    # Get the names as an array\n",
    "    tox_chem_names[c] = tox_gb.index.values\n",
    "    \n",
    "    \n",
    "# Now get the common names across the MEC and tox data. This should retain the\n",
    "# order from the MEC data\n",
    "common_chem_names = {c: [name for name in mec_chem_names[c] if name in tox_chem_names[c]]\n",
    "                     for c in compartments}\n",
    "species_by_chemical = {'water': {}, 'soil': {}}\n",
    "\n",
    "# Now for other chemical, get the list of species that we have tox data for\n",
    "for c in compartments:\n",
    "    for chem in common_chem_names[c]:\n",
    "        df_tox_chem = df_tox[c][df_tox[c]['Chemical'] == chem]\n",
    "        df_species_gb = df_tox_chem.groupby('Species')['Species'].count()\n",
    "        species_by_chemical[c][chem] = df_species_gb"
   ]
  },
  {
   "cell_type": "markdown",
   "metadata": {},
   "source": [
    "## Sample a probability density function for each species\n",
    "\n",
    "We use the same method as the PSSD+ approach from [Wigger et al, 2019](https://doi.org/10.1002/ieam.4214) to generate and sample probability distributions for each species. This builds triangular, trapezoidal or extended step distributions, depending on the number of data points for the particular species in question. Monte Carlo sampling is performed `n_iterations` (default of 10,000) times for each distribution.\n",
    "\n",
    "First, we define a function (in R) that generates and samples the distributions. Internally, this function calls code from [https://doi.org/10.5281/zenodo.3516566](https://doi.org/10.5281/zenodo.3516566)."
   ]
  },
  {
   "cell_type": "code",
   "execution_count": 7,
   "metadata": {
    "tags": []
   },
   "outputs": [
    {
     "name": "stderr",
     "output_type": "stream",
     "text": [
      "R[write to console]: Loading required package: mvtnorm\n",
      "\n",
      "R[write to console]: \n",
      "Attaching package: ‘mc2d’\n",
      "\n",
      "\n",
      "R[write to console]: The following objects are masked from ‘package:base’:\n",
      "\n",
      "    pmax, pmin\n",
      "\n",
      "\n"
     ]
    }
   ],
   "source": [
    "%%R -o generate_distribution\n",
    "\n",
    "# Load the required libraries and the rmore function\n",
    "library('trapezoid')\n",
    "library('mc2d')\n",
    "source('rmore.R')\n",
    "\n",
    "generate_distribution <- function(values, cv_dp, cv_uf, N = 10000) {\n",
    "    # Function that constructs and samples a distribution based on passed\n",
    "    # data points. Adapted from doi:10.5281/zenodo.3516566.\n",
    "    #\n",
    "    # Params:\n",
    "    #   values   The data points to generate the distribution from\n",
    "    #   cv_dp    Coefficient of variation for interlaboratory variation\n",
    "    #   cv_uf    Coefficient of variation for use of non-substance-specific uncertainty factors\n",
    "    #   N        Number of samples to be taken from the distribution, default = 10,000\n",
    "    \n",
    "    # Sort the values in ascending order\n",
    "    sort.values <- sort(values)\n",
    "    \n",
    "    # Calculate the min and max of the distribution using CV values\n",
    "    sp.min <- values[which.min(values)] * (1 - (sqrt((cv_dp/2.45)^2 + (cv_uf/2.45)^2 + (cv_uf/2.45)^2) * 2.45))\n",
    "    sp.max <- values[which.max(values)] * (1 + (sqrt((cv_dp/2.45)^2 + (cv_uf/2.45)^2 + (cv_uf/2.45)^2) * 2.45))\n",
    "    \n",
    "    # Create each a triangular, trapezoidal or extended distribution,\n",
    "    # depending on how many datapoints there are\n",
    "    if(length(values) == 1) {\n",
    "        # Triangular distribution, if only one value\n",
    "        dist <- rtrunc(\"rtriang\",\n",
    "                       min = sp.min,\n",
    "                       mode = sort.values[1],\n",
    "                       max = sp.max,\n",
    "                       n = N, linf = 0)\n",
    "    } else if(length(values) == 2) {\n",
    "        # Trapezoidal distribution, if two values\n",
    "        dist <- rtrunc(\"rtrapezoid\", N,\n",
    "                       mode1 = sort.values[1],\n",
    "                       mode2 = sort.values[2],\n",
    "                       min = sp.min, max = sp.max,\n",
    "                       linf = 0)\n",
    "    } else {\n",
    "        # Extended step distribution, if three or more values\n",
    "        dist <- rmore(values = values,\n",
    "                      min = sp.min,\n",
    "                      max = sp.max,\n",
    "                      N = N, linf = 0)\n",
    "    }\n",
    "    return(dist)\n",
    "}"
   ]
  },
  {
   "cell_type": "markdown",
   "metadata": {},
   "source": [
    "Now loop through the compartments, chemicals and species and use this function to generate and sample distributions for each species."
   ]
  },
  {
   "cell_type": "code",
   "execution_count": 8,
   "metadata": {},
   "outputs": [],
   "source": [
    "samples = []\n",
    "n_vals = {}\n",
    "\n",
    "# Loop through the compartments, chemicals and species\n",
    "for comp, chemicals in species_by_chemical.items():\n",
    "    n_vals[comp] = {}\n",
    "    # Store the df for this compartment, for convenience\n",
    "    df = df_tox[comp]\n",
    "    for chem_name, species in chemicals.items():\n",
    "        n_vals[comp][chem_name] = {}\n",
    "        for species_name, n_rows in species.items():\n",
    "            # Get the data point for this species\n",
    "            df_sp = df[(df['Chemical'] == chem_name) & (df['Species'] == species_name)]\n",
    "            vals = df_sp['tox_conv'].values\n",
    "            # How many values is this based on\n",
    "            n_vals[comp][chem_name][species_name] = len(vals)\n",
    "            # If all values are equal, only pass one (prevents an error in rmore)\n",
    "            if len(vals) > 1 and np.all(vals == vals[0]):\n",
    "                vals = np.array([vals[0]])\n",
    "            # Generate and sample the triangular, trapezoidal or step distributions for this\n",
    "            # species, yielding an array of length n_iterations. Internally, this calls the R\n",
    "            # code used by Wigger et al, 2019, adapted from doi:10.5281/zenodo.3516566.\n",
    "            dist = generate_distribution(vals, cv_dp, cv_uf, n_iterations)\n",
    "            # Loop through the samples and append to the big list of values\n",
    "            for i, val in enumerate(dist):\n",
    "                samples.append({\n",
    "                    'compartment': comp,\n",
    "                    'chemical': chem_name,\n",
    "                    'species': species_name,\n",
    "                    'taxa': df_sp['Taxa'],\n",
    "                    'iteration': i,\n",
    "                    'tox_value': val\n",
    "                })\n",
    "                \n",
    "# Save the big list to a dataframe and sort (doesn't preserve species order)\n",
    "df_ssd = pd.DataFrame(samples).sort_values(['compartment', 'chemical', 'tox_value'])"
   ]
  },
  {
   "cell_type": "markdown",
   "metadata": {},
   "source": [
    "Let's plot a few distributions for imidacloprid in water to see if they look like we expect."
   ]
  },
  {
   "cell_type": "code",
   "execution_count": 9,
   "metadata": {},
   "outputs": [
    {
     "data": {
      "image/png": "[encoded data removed]",
      "text/plain": [
       "<Figure size 1200x400 with 4 Axes>"
      ]
     },
     "metadata": {},
     "output_type": "display_data"
    }
   ],
   "source": [
    "# Pick some species to plot\n",
    "species = ['Micronecta sp', 'Cypridopsis vidua', 'Daphnia magna', 'Cloeon dipterum']\n",
    "\n",
    "# Create the graph\n",
    "fig, axs = plt.subplots(1, len(species), figsize=(12,4))\n",
    "fig.suptitle('Imidacloprid in water')\n",
    "\n",
    "# Loop through the species and plot a histogram for each\n",
    "for i, sp in enumerate(species):\n",
    "    vals = df_ssd[(df_ssd['compartment'] == 'water') &\n",
    "                  (df_ssd['chemical'] == 'Imidacloprid') &\n",
    "                  (df_ssd['species'] == sp)]['tox_value'].values\n",
    "    axs[i].hist(vals, bins=30)\n",
    "    axs[i].set_title(f'{sp}, n={n_vals[\"water\"][\"Imidacloprid\"][sp]}')\n",
    "#     print(sp, df_tox['water'][(df_tox['water']['Chemical'] == 'Imidacloprid') & (df_tox['water']['Species'] == sp)]['LC50'].values)"
   ]
  },
  {
   "cell_type": "markdown",
   "metadata": {},
   "source": [
    "## Constructing the PSSD\n",
    "\n",
    "We now use the full dataset of samples (10,000 * n_species) to construct the full PSSD curve, which is simply the cumulative distribution function (CDF) of all of these values:"
   ]
  },
  {
   "cell_type": "code",
   "execution_count": 10,
   "metadata": {},
   "outputs": [],
   "source": [
    "# Create a CDF from the tox values\n",
    "for comp, chemicals in species_by_chemical.items():\n",
    "    for chem_name, species in chemicals.items():\n",
    "        df_ = df_ssd[(df_ssd['compartment'] == comp) & (df_ssd['chemical'] == chem_name)]\n",
    "        # Calculate the CDF and save to a new column\n",
    "        df_ssd.loc[(df_ssd['compartment'] == comp) &\n",
    "                   (df_ssd['chemical'] == chem_name),\n",
    "                   'CDF'] = 1. * np.arange(len(df_)) / (len(df_) - 1)"
   ]
  },
  {
   "cell_type": "markdown",
   "metadata": {},
   "source": [
    "### Extracting the distribution metrics (Q and mean values)\n",
    "\n",
    "Now get the Q values and means by grouping by chemical and species. We also need to calculate a CDF for the mean values so we can add them as reference values to the plots."
   ]
  },
  {
   "cell_type": "code",
   "execution_count": 11,
   "metadata": {},
   "outputs": [
    {
     "data": {
      "text/html": [
       "<div>\n",
       "<style scoped>\n",
       "    .dataframe tbody tr th:only-of-type {\n",
       "        vertical-align: middle;\n",
       "    }\n",
       "\n",
       "    .dataframe tbody tr th {\n",
       "        vertical-align: top;\n",
       "    }\n",
       "\n",
       "    .dataframe thead th {\n",
       "        text-align: right;\n",
       "    }\n",
       "</style>\n",
       "<table border=\"1\" class=\"dataframe\">\n",
       "  <thead>\n",
       "    <tr style=\"text-align: right;\">\n",
       "      <th></th>\n",
       "      <th></th>\n",
       "      <th></th>\n",
       "      <th>mean</th>\n",
       "      <th>min</th>\n",
       "      <th>max</th>\n",
       "      <th>q5</th>\n",
       "      <th>q95</th>\n",
       "      <th>q25</th>\n",
       "      <th>q75</th>\n",
       "      <th>mean_CDF</th>\n",
       "    </tr>\n",
       "    <tr>\n",
       "      <th>compartment</th>\n",
       "      <th>chemical</th>\n",
       "      <th>species</th>\n",
       "      <th></th>\n",
       "      <th></th>\n",
       "      <th></th>\n",
       "      <th></th>\n",
       "      <th></th>\n",
       "      <th></th>\n",
       "      <th></th>\n",
       "      <th></th>\n",
       "    </tr>\n",
       "  </thead>\n",
       "  <tbody>\n",
       "    <tr>\n",
       "      <th rowspan=\"5\" valign=\"top\">soil</th>\n",
       "      <th rowspan=\"5\" valign=\"top\">Cadmium</th>\n",
       "      <th>Caenorhabditis elegans</th>\n",
       "      <td>0.116313</td>\n",
       "      <td>0.027846</td>\n",
       "      <td>0.204235</td>\n",
       "      <td>0.055505</td>\n",
       "      <td>0.177442</td>\n",
       "      <td>0.090449</td>\n",
       "      <td>0.142872</td>\n",
       "      <td>0.000000</td>\n",
       "    </tr>\n",
       "    <tr>\n",
       "      <th>Gallus gallus domesticus</th>\n",
       "      <td>5.658294</td>\n",
       "      <td>1.379784</td>\n",
       "      <td>9.948228</td>\n",
       "      <td>2.724586</td>\n",
       "      <td>8.607701</td>\n",
       "      <td>4.396907</td>\n",
       "      <td>6.905049</td>\n",
       "      <td>0.250000</td>\n",
       "    </tr>\n",
       "    <tr>\n",
       "      <th>Folsomia candida</th>\n",
       "      <td>11.543685</td>\n",
       "      <td>0.187414</td>\n",
       "      <td>67.289203</td>\n",
       "      <td>3.531833</td>\n",
       "      <td>25.760025</td>\n",
       "      <td>8.112334</td>\n",
       "      <td>12.824568</td>\n",
       "      <td>0.500000</td>\n",
       "    </tr>\n",
       "    <tr>\n",
       "      <th>Eisenia foetida</th>\n",
       "      <td>14.231237</td>\n",
       "      <td>0.986241</td>\n",
       "      <td>32.449017</td>\n",
       "      <td>3.454092</td>\n",
       "      <td>26.986056</td>\n",
       "      <td>7.996605</td>\n",
       "      <td>19.764777</td>\n",
       "      <td>0.750000</td>\n",
       "    </tr>\n",
       "    <tr>\n",
       "      <th>Colinus virginiansus</th>\n",
       "      <td>17.324891</td>\n",
       "      <td>4.062268</td>\n",
       "      <td>30.481373</td>\n",
       "      <td>8.258922</td>\n",
       "      <td>26.215437</td>\n",
       "      <td>13.538849</td>\n",
       "      <td>21.243493</td>\n",
       "      <td>1.000000</td>\n",
       "    </tr>\n",
       "    <tr>\n",
       "      <th>...</th>\n",
       "      <th>...</th>\n",
       "      <th>...</th>\n",
       "      <td>...</td>\n",
       "      <td>...</td>\n",
       "      <td>...</td>\n",
       "      <td>...</td>\n",
       "      <td>...</td>\n",
       "      <td>...</td>\n",
       "      <td>...</td>\n",
       "      <td>...</td>\n",
       "    </tr>\n",
       "    <tr>\n",
       "      <th rowspan=\"5\" valign=\"top\">water</th>\n",
       "      <th rowspan=\"5\" valign=\"top\">Zinc</th>\n",
       "      <th>Ephemerella sp.</th>\n",
       "      <td>688.849223</td>\n",
       "      <td>170.717763</td>\n",
       "      <td>1208.297804</td>\n",
       "      <td>319.150621</td>\n",
       "      <td>1056.980791</td>\n",
       "      <td>530.662483</td>\n",
       "      <td>848.277705</td>\n",
       "      <td>0.955556</td>\n",
       "    </tr>\n",
       "    <tr>\n",
       "      <th>Chloroperlidae</th>\n",
       "      <td>689.366275</td>\n",
       "      <td>166.689091</td>\n",
       "      <td>1207.381473</td>\n",
       "      <td>326.553252</td>\n",
       "      <td>1053.561917</td>\n",
       "      <td>531.929469</td>\n",
       "      <td>845.842552</td>\n",
       "      <td>0.966667</td>\n",
       "    </tr>\n",
       "    <tr>\n",
       "      <th>Opercularia minima</th>\n",
       "      <td>852.361548</td>\n",
       "      <td>199.167305</td>\n",
       "      <td>1490.994215</td>\n",
       "      <td>403.979503</td>\n",
       "      <td>1291.348975</td>\n",
       "      <td>664.049748</td>\n",
       "      <td>1038.184250</td>\n",
       "      <td>0.977778</td>\n",
       "    </tr>\n",
       "    <tr>\n",
       "      <th>Rana catesbeiana</th>\n",
       "      <td>1004.984389</td>\n",
       "      <td>238.428860</td>\n",
       "      <td>1756.838715</td>\n",
       "      <td>483.128740</td>\n",
       "      <td>1525.528793</td>\n",
       "      <td>774.111206</td>\n",
       "      <td>1236.939229</td>\n",
       "      <td>0.988889</td>\n",
       "    </tr>\n",
       "    <tr>\n",
       "      <th>Cichlasoma managuense</th>\n",
       "      <td>1237.293531</td>\n",
       "      <td>291.477233</td>\n",
       "      <td>2188.711524</td>\n",
       "      <td>592.950047</td>\n",
       "      <td>1889.812783</td>\n",
       "      <td>958.364597</td>\n",
       "      <td>1509.782047</td>\n",
       "      <td>1.000000</td>\n",
       "    </tr>\n",
       "  </tbody>\n",
       "</table>\n",
       "<p>542 rows × 8 columns</p>\n",
       "</div>"
      ],
      "text/plain": [
       "                                                      mean         min  \\\n",
       "compartment chemical species                                             \n",
       "soil        Cadmium  Caenorhabditis elegans       0.116313    0.027846   \n",
       "                     Gallus gallus domesticus     5.658294    1.379784   \n",
       "                     Folsomia candida            11.543685    0.187414   \n",
       "                     Eisenia foetida             14.231237    0.986241   \n",
       "                     Colinus virginiansus        17.324891    4.062268   \n",
       "...                                                    ...         ...   \n",
       "water       Zinc     Ephemerella sp.            688.849223  170.717763   \n",
       "                     Chloroperlidae             689.366275  166.689091   \n",
       "                     Opercularia minima         852.361548  199.167305   \n",
       "                     Rana catesbeiana          1004.984389  238.428860   \n",
       "                     Cichlasoma managuense     1237.293531  291.477233   \n",
       "\n",
       "                                                       max          q5  \\\n",
       "compartment chemical species                                             \n",
       "soil        Cadmium  Caenorhabditis elegans       0.204235    0.055505   \n",
       "                     Gallus gallus domesticus     9.948228    2.724586   \n",
       "                     Folsomia candida            67.289203    3.531833   \n",
       "                     Eisenia foetida             32.449017    3.454092   \n",
       "                     Colinus virginiansus        30.481373    8.258922   \n",
       "...                                                    ...         ...   \n",
       "water       Zinc     Ephemerella sp.           1208.297804  319.150621   \n",
       "                     Chloroperlidae            1207.381473  326.553252   \n",
       "                     Opercularia minima        1490.994215  403.979503   \n",
       "                     Rana catesbeiana          1756.838715  483.128740   \n",
       "                     Cichlasoma managuense     2188.711524  592.950047   \n",
       "\n",
       "                                                       q95         q25  \\\n",
       "compartment chemical species                                             \n",
       "soil        Cadmium  Caenorhabditis elegans       0.177442    0.090449   \n",
       "                     Gallus gallus domesticus     8.607701    4.396907   \n",
       "                     Folsomia candida            25.760025    8.112334   \n",
       "                     Eisenia foetida             26.986056    7.996605   \n",
       "                     Colinus virginiansus        26.215437   13.538849   \n",
       "...                                                    ...         ...   \n",
       "water       Zinc     Ephemerella sp.           1056.980791  530.662483   \n",
       "                     Chloroperlidae            1053.561917  531.929469   \n",
       "                     Opercularia minima        1291.348975  664.049748   \n",
       "                     Rana catesbeiana          1525.528793  774.111206   \n",
       "                     Cichlasoma managuense     1889.812783  958.364597   \n",
       "\n",
       "                                                       q75  mean_CDF  \n",
       "compartment chemical species                                          \n",
       "soil        Cadmium  Caenorhabditis elegans       0.142872  0.000000  \n",
       "                     Gallus gallus domesticus     6.905049  0.250000  \n",
       "                     Folsomia candida            12.824568  0.500000  \n",
       "                     Eisenia foetida             19.764777  0.750000  \n",
       "                     Colinus virginiansus        21.243493  1.000000  \n",
       "...                                                    ...       ...  \n",
       "water       Zinc     Ephemerella sp.            848.277705  0.955556  \n",
       "                     Chloroperlidae             845.842552  0.966667  \n",
       "                     Opercularia minima        1038.184250  0.977778  \n",
       "                     Rana catesbeiana          1236.939229  0.988889  \n",
       "                     Cichlasoma managuense     1509.782047  1.000000  \n",
       "\n",
       "[542 rows x 8 columns]"
      ]
     },
     "execution_count": 11,
     "metadata": {},
     "output_type": "execute_result"
    }
   ],
   "source": [
    "# Calculate the mean of each SSD\n",
    "df_ssd_mean = df_ssd.groupby(['compartment', 'chemical', 'species'])['tox_value'].agg(mean='mean',\n",
    "                                                                                      min='min',\n",
    "                                                                                      max='max',\n",
    "                                                                                      q5=lambda x: x.quantile(0.05),\n",
    "                                                                                      q95=lambda x: x.quantile(0.95),\n",
    "                                                                                      q25=lambda x: x.quantile(0.25),\n",
    "                                                                                      q75=lambda x: x.quantile(0.75))\n",
    "# Sort so that the tox_value is ascending - this is needed to calculate the CDF\n",
    "df_ssd_mean = df_ssd_mean.sort_values(['compartment', 'chemical', 'mean'])\n",
    "# Calculate the number of species for each compartment and chemical\n",
    "n_species_gb = df_ssd_mean.groupby(['compartment', 'chemical'])['mean'].count()\n",
    "\n",
    "# Loop over compartments and chemicals\n",
    "for comp, chemicals in species_by_chemical.items():\n",
    "    for chem_name, species in chemicals.items():\n",
    "        n_species = n_species_gb[comp, chem_name]\n",
    "        # Calculate the CDF and save to a new column\n",
    "        df_ssd_mean.loc[(comp, chem_name, slice(None)), 'mean_CDF'] = 1. * np.arange(n_species) / (n_species - 1)\n",
    "        \n",
    "df_ssd_mean"
   ]
  },
  {
   "cell_type": "markdown",
   "metadata": {
    "tags": []
   },
   "source": [
    "### Calculating the PNEC distributions\n",
    "\n",
    "We now use the 5th percentile of each of the 10,000 SSDs to construct a PNEC distribution:"
   ]
  },
  {
   "cell_type": "code",
   "execution_count": 12,
   "metadata": {},
   "outputs": [],
   "source": [
    "df_hc5 = df_ssd.groupby(['compartment', 'chemical', 'iteration'], as_index=False)['tox_value'].quantile(0.05)\n",
    "# We create a column saying that these are PNEC values, which will\n",
    "# be useful when we concat this dataframe with MEC samples later\n",
    "df_hc5['endpoint'] = 'PNEC'"
   ]
  },
  {
   "cell_type": "markdown",
   "metadata": {},
   "source": [
    "### Plotting the PSSDs\n",
    "\n",
    "We can plot a CDF of the PSSDs, annotating with the species-specific means. It is worth noting that the PSSDs are based on the full dataset (i.e. all 10,000 samples of each species), and therefore the *y* values of the CDF are not necessarily in species order. The mean values are grouped by species and shown in order of decreasing sensitivity on the *y* axis for reference only."
   ]
  },
  {
   "cell_type": "code",
   "execution_count": 13,
   "metadata": {},
   "outputs": [
    {
     "data": {
      "application/vnd.jupyter.widget-view+json": {
       "model_id": "c4930382089e457cad7317bdb5d2ddde",
       "version_major": 2,
       "version_minor": 0
      },
      "text/plain": [
       "interactive(children=(Dropdown(description='Chemical:', options=('Arsenic', 'Zinc', 'Manganese', 'Cadmium', 'I…"
      ]
     },
     "metadata": {},
     "output_type": "display_data"
    }
   ],
   "source": [
    "from matplotlib import colors\n",
    "from matplotlib.lines import Line2D\n",
    "from matplotlib.patches import Patch\n",
    "\n",
    "# Create the widgets for the dropdowns and buttons\n",
    "name_w = widgets.Dropdown(options=species_by_chemical['water'].keys(),\n",
    "                          value=list(species_by_chemical['water'].keys())[0],\n",
    "                          description='Chemical:')\n",
    "c_w = widgets.ToggleButtons(options=compartments,\n",
    "                            description='Compartment:',\n",
    "                            value='water')\n",
    "# Update the dropdown options when we change the compartment\n",
    "def update(*args):\n",
    "  name_w.options = species_by_chemical[c_w.value].keys()\n",
    "c_w.observe(update)\n",
    "\n",
    "# Styling options\n",
    "axis_fontsize = 13\n",
    "species_fontsize = 8\n",
    "legend_fontsize = 9\n",
    "\n",
    "colors = plt.cm.tab10.colors\n",
    "cmap = {\n",
    "    'Algae': (colors[0], '>'),\n",
    "    'Amphibian': (colors[1], 'v'),\n",
    "    'Crustaceans': (colors[2], 's'),\n",
    "    'Fish': (colors[3], '^'),\n",
    "    'Insects': (colors[4], 'o'),\n",
    "    'Rotifera': (colors[6], '<'),\n",
    "    'Molluscs': (colors[5], 'p'),\n",
    "    'Nematoda': (colors[7], 'P'),\n",
    "    'Annelida': (colors[8], '*')\n",
    "}\n",
    "legend_elements = [Line2D([0], [0], marker=v[1], color='w', markerfacecolor=v[0], ms=8, label=k) for k, v in cmap.items()]\n",
    "\n",
    "# Declare a function that is run each time the dropdown menu is changed\n",
    "@interact(name=name_w, c=c_w)\n",
    "def plot_CDF(name, c, savefig=False):\n",
    "    # Filter the mean, full and HC5 dfs to this chemical\n",
    "    df_ = df_ssd[(df_ssd['compartment'] == c) & (df_ssd['chemical'] == name)]\n",
    "    df_mean_ = df_ssd_mean.loc[(c, name, slice(None)),:]\n",
    "    df_hc5_ = df_hc5[(df_hc5['compartment'] == c) & (df_hc5['chemical'] == name)]\n",
    "    # Plot the PSSD and means of each species\n",
    "    fig, ax = plt.subplots(figsize=(6,6))\n",
    "    ax.set_xscale('log')\n",
    "    df_.plot('tox_value', 'CDF', ax=ax, lw=4, color='darkgreen', legend=None, zorder=5)\n",
    "    # Get info about the species to use in the plots\n",
    "    n_species = len(df_mean_.index.get_level_values(2))\n",
    "    height = 1 / n_species\n",
    "    rescale_y = 1 - height\n",
    "    rect_args = {'height': height, 'alpha': 0.15, 'color': 'green', 'lw': 0}\n",
    "    y_range = df_['tox_value'].max() - df_['tox_value'].min()\n",
    "    if c == 'water':\n",
    "        water_taxa = df_tox['water'][(df_tox[c]['Chemical'] == name)]['Taxa'].drop_duplicates().values\n",
    "    # Add the distribution boxes for each species\n",
    "    for index, row in df_mean_.iterrows():\n",
    "        if c == 'water':\n",
    "            # Taxa\n",
    "            taxa = df_tox[c][(df_tox[c]['Chemical'] == name) & (df_tox[c]['Species'] == index[2])]['Taxa'].values[0]\n",
    "            i_taxa = s_taxa[c][s_taxa[c] == taxa].index.values[0]\n",
    "            color=cmap[taxa][0]\n",
    "            marker=cmap[taxa][1]\n",
    "        else:\n",
    "            color='darkblue'\n",
    "            marker='o'\n",
    "        # color = 'black'\n",
    "        # Add the species name\n",
    "        ax.annotate(index[2], (row['max'] + (row['max'] / 5), row['mean_CDF'] * rescale_y + height / 2),\n",
    "                    horizontalalignment='left', verticalalignment='center', style='italic',\n",
    "                    path_effects=[pe.withStroke(linewidth=4, foreground='white')], fontsize=species_fontsize,\n",
    "                    zorder=6)\n",
    "        # Add the min-max, Q5-95 and Q25-75 boxes\n",
    "        ax.add_patch(Rectangle((row['min'], row['mean_CDF'] * rescale_y), width=row['max'] - row['min'], zorder=1, **rect_args))\n",
    "        ax.add_patch(Rectangle((row['q5'], row['mean_CDF'] * rescale_y), width=row['q95'] - row['q5'], zorder=2, **rect_args))\n",
    "        ax.add_patch(Rectangle((row['q25'], row['mean_CDF'] * rescale_y), width=row['q75'] - row['q25'], zorder=3, **rect_args))\n",
    "        # Get the original data values\n",
    "        tox_values = df_tox[c][(df_tox[c]['Chemical'] == name) & (df_tox[c]['Species'] == index[2])]['tox_conv']\n",
    "        ax.scatter(x=tox_values, y=[row['mean_CDF'] * rescale_y + height / 2] * len(tox_values), color=color, marker=marker,\n",
    "                  zorder=4)\n",
    "    # Some more styling\n",
    "    ax.set_xlabel(f'NOEC ({units[c]})', fontsize=axis_fontsize)\n",
    "    ax.set_ylabel('Proportion of species affected', fontsize=axis_fontsize)\n",
    "    ax.grid(True, color='lightgray', zorder=0)\n",
    "    # Add another legend for the PSSD\n",
    "    legend_handles = [\n",
    "        Line2D([0], [0], color='darkgreen', label='PSSD', lw=3),\n",
    "        Patch(facecolor='green', alpha=0.15, label='Min to max'),\n",
    "        Patch(facecolor='green', alpha=0.3, label='Q5 to Q95'),\n",
    "        Patch(facecolor='green', alpha=0.45, label='Q25 to Q75')\n",
    "    ]\n",
    "    if c == 'water':\n",
    "        legend_handles.extend([e for e in legend_elements if e.get_label() in water_taxa])    \n",
    "    ax.legend(handles=legend_handles, loc='upper left', fontsize=legend_fontsize)\n",
    "\n",
    "    # Add the PNEC graph\n",
    "    ax2 = fig.add_axes([0.7, 0.19, 0.2, 0.2])\n",
    "    ax2.hist(df_hc5_['tox_value'], bins=20, edgecolor='w', linewidth=1, facecolor='slategrey')\n",
    "    ax2.set_yticks([])\n",
    "    ax2.set_ylabel('Probability density', fontsize=9)\n",
    "    ax2.set_xlabel(f'PNEC ({units[c]})', fontsize=9)\n",
    "    ax2.tick_params('x', labelsize=8)\n",
    "    \n",
    "    if savefig:\n",
    "        ax.set_title(f'{name} in {c}')\n",
    "        fig.savefig(f'{c}_{name}.png', dpi=400, bbox_inches='tight')"
   ]
  },
  {
   "cell_type": "markdown",
   "metadata": {},
   "source": [
    "Extract mean HC5 value for imidacloprid in water:"
   ]
  },
  {
   "cell_type": "code",
   "execution_count": 14,
   "metadata": {},
   "outputs": [
    {
     "name": "stdout",
     "output_type": "stream",
     "text": [
      "Mean HC5: 0.022931261929128942\n",
      "Max HC5: 0.039253388779489515\n"
     ]
    }
   ],
   "source": [
    "df_hc5_ = df_hc5[(df_hc5['compartment'] == 'water') & (df_hc5['chemical'] == 'Imidacloprid')]\n",
    "print(f'Mean HC5: {df_hc5_[\"tox_value\"].mean()}')\n",
    "print(f'Max HC5: {df_hc5_[\"tox_value\"].max()}')"
   ]
  },
  {
   "cell_type": "markdown",
   "metadata": {},
   "source": [
    "## Calculate MEC distributions and CDFs\n",
    "\n",
    "We now use the measured environmental concentration (MEC) data to calculate distributions of environmental concentrations by fitting lognormal distributions. This simple approach is used as anything more complex risks overfitting our data. We then calculate CDFs of both the PNEC and MEC distributions and store in one big dataframe alongside the PSSDs, ready for plotting against each other. The also create a dataframe of sampled values, containing HC5 and MEC samples."
   ]
  },
  {
   "cell_type": "code",
   "execution_count": 15,
   "metadata": {},
   "outputs": [],
   "source": [
    "dists = []\n",
    "values = []\n",
    "\n",
    "# Loop through the compartments and chemicals\n",
    "for comp, chemicals in species_by_chemical.items():\n",
    "    # Store the df for this compartment, for convenience\n",
    "    df = df_mec[comp]\n",
    "    for chem_name, species in chemicals.items():\n",
    "        # Get the measured concentrations\n",
    "        log_mec_values = np.log(df[df['chemical'] == chem_name]['MEC'].values)\n",
    "        # Define an x grid\n",
    "        sample_range = log_mec_values.max() - log_mec_values.min()\n",
    "        x_mec = np.linspace(log_mec_values.min() - 0.75 * sample_range,\n",
    "                             log_mec_values.max() + 0.75 * sample_range, 1000)\n",
    "\n",
    "        # Fit a lognormal distribution to the concs and get the PDF and CDF,\n",
    "        # un-logging the data and normalizing as we go\n",
    "        mean, std = stats.norm.fit(log_mec_values)\n",
    "        mec_sample = np.exp(stats.norm.rvs(mean, std, size=1000))\n",
    "        \n",
    "        # Generate the MEC PDF and CDF\n",
    "        mec_pdf = stats.norm.pdf(x_mec, mean, std)\n",
    "        mec_pdf = mec_pdf / mec_pdf.max()\n",
    "        mec_cdf = stats.norm.cdf(x_mec, mean, std)\n",
    "        mec_cdf = mec_cdf / mec_cdf.max()\n",
    "        x_mec = np.exp(x_mec)\n",
    "        \n",
    "        # Get the PNEC distribution data points and calculate the CDF\n",
    "        pnec_values = df_hc5[(df_hc5['compartment'] == comp) & (df_hc5['chemical'] == chem_name)]['tox_value'].values\n",
    "        x_pnec = np.sort(pnec_values)\n",
    "        pnec_cdf = np.arange(len(pnec_values)) / (len(pnec_values) - 1)\n",
    "        \n",
    "        # Get the PSSD distribution CDF\n",
    "        pssd_cdf = df_ssd[(df_ssd['compartment'] == comp) & (df_ssd['chemical'] == chem_name)]['CDF'].values\n",
    "        x_pssd = df_ssd[(df_ssd['compartment'] == comp) & (df_ssd['chemical'] == chem_name)]['tox_value'].values\n",
    "        \n",
    "        # Downsample the DFs to 1000 data points to speed up plotting\n",
    "        cdf_ds = np.linspace(0, 1, 1000)\n",
    "        f_pnec_cdf = interpolate.interp1d(pnec_cdf, x_pnec)\n",
    "        f_pssd_cdf = interpolate.interp1d(pssd_cdf, x_pssd)\n",
    "        x_pnec_ds = f_pnec_cdf(cdf_ds)\n",
    "        x_pssd_ds = f_pssd_cdf(cdf_ds)\n",
    "        \n",
    "        # Add MECs and PNECs to the dataframe\n",
    "        for i, x in enumerate(x_mec):\n",
    "            dists.append({\n",
    "                'compartment': comp,\n",
    "                'chemical': chem_name,\n",
    "                'conc': x,\n",
    "                'pdf': mec_pdf[i],\n",
    "                'cdf': mec_cdf[i],\n",
    "                'endpoint': 'MEC'\n",
    "            })\n",
    "        for i, x in enumerate(x_pnec_ds):\n",
    "            dists.append({\n",
    "                'compartment': comp,\n",
    "                'chemical': chem_name,\n",
    "                'conc': x,\n",
    "                'cdf': cdf_ds[i],\n",
    "                'endpoint': 'PNEC'\n",
    "            })\n",
    "        for i, x in enumerate(x_pssd_ds):\n",
    "            dists.append({\n",
    "                'compartment': comp,\n",
    "                'chemical': chem_name,\n",
    "                'conc': x,\n",
    "                'cdf': cdf_ds[i],\n",
    "                'endpoint': 'PSSD'\n",
    "            })\n",
    "            values.append({\n",
    "                'compartment': comp,\n",
    "                'chemical': chem_name,\n",
    "                'conc': x,\n",
    "                'endpoint': 'PSSD'\n",
    "            })\n",
    "        for i, v in enumerate(mec_sample):\n",
    "            values.append({\n",
    "                'compartment': comp,\n",
    "                'chemical': chem_name,\n",
    "                'conc': v,\n",
    "                'endpoint': 'MEC'\n",
    "            })\n",
    "\n",
    "df_dists = pd.DataFrame(dists)\n",
    "df_mec_samples = pd.DataFrame(values)\n",
    "df_values = pd.concat([df_hc5.rename(columns={'tox_value': 'conc'}).drop(columns='iteration'), df_mec_samples])"
   ]
  },
  {
   "cell_type": "markdown",
   "metadata": {},
   "source": [
    "## Plot MEC-PSSD distributions\n",
    "\n",
    "We can now plot the MEC distributions we just calculated against the PSSDs (or PNEC distributions)."
   ]
  },
  {
   "cell_type": "code",
   "execution_count": 16,
   "metadata": {},
   "outputs": [
    {
     "data": {
      "application/vnd.jupyter.widget-view+json": {
       "model_id": "cb15f53d3d2c4513852d40e6876bf103",
       "version_major": 2,
       "version_minor": 0
      },
      "text/plain": [
       "interactive(children=(ToggleButtons(description='Compartment:', options=('water', 'soil'), value='water'), Out…"
      ]
     },
     "metadata": {},
     "output_type": "display_data"
    }
   ],
   "source": [
    "c_w = widgets.ToggleButtons(options=compartments,\n",
    "                            description='Compartment:',\n",
    "                            value='water')\n",
    "\n",
    "# Declare a function that is run each time the dropdown menu is changed\n",
    "@interact(c=c_w)\n",
    "def plot_dists(c):\n",
    "    height = 900 if c == 'water' else 440\n",
    "    row_spacing = 0.04 if c == 'water' else 0.1\n",
    "    fig = px.line(df_dists[(df_dists['compartment'] == c) &\n",
    "                           ((df_dists['endpoint'] == 'MEC') | (df_dists['endpoint'] == 'PSSD'))],\n",
    "                  x='conc', y='cdf', color='endpoint', facet_col='chemical', facet_col_wrap=4, log_x=True,\n",
    "                  width=1000, height=height, facet_row_spacing=row_spacing, facet_col_spacing=0.02, color_discrete_map={'PSSD': 'darkgreen', 'MEC': 'blue'},\n",
    "                  template='plotly_white', labels={'endpoint': ''})\n",
    "    fig.for_each_annotation(lambda a: a.update(text=a.text.split('=')[-1]))\n",
    "    fig.for_each_yaxis(lambda y: y.update(title=''))\n",
    "    fig.for_each_xaxis(lambda x: x.update(title=''))\n",
    "    fig.add_annotation(x=-0.07, y=0.5, text='Cumulative probability', textangle=-90, xref='paper', yref='paper', showarrow=False, font_size=16)\n",
    "    fig.add_annotation(y=-0.07, x=0.5, text=f'Concentration ({units[\"water\"]})', xref='paper', yref='paper', showarrow=False, font_size=16)\n",
    "    fig.update_xaxes(exponentformat='power', range=[-5, 6] if c=='water' else None)\n",
    "    fig.update_yaxes(range=[-0.01, 1.02])\n",
    "    fig.show()"
   ]
  },
  {
   "cell_type": "markdown",
   "metadata": {},
   "source": [
    "## Calculating risk\n",
    "\n",
    "We will use two methods to assess risk.\n",
    "\n",
    "### Overlap between distributions\n",
    "\n",
    "Firstly, the method proposed in [Gottschalk and Nowack, 2012](https://doi.org/10.1002/ieam.1334), which calculates the product of the fraction of critical tox values (those that less than the maximum value from the MEC distribution) and the fraction of critical MEC distribution values (those that are greater than the minimum value from the PSSD):\n",
    "\n",
    "$$\n",
    "\\text{Risk} = \\frac{\\text{MEC}_\\text{values} \\geq \\text{LC50}_\\text{min}}{\\text{MEC}_\\text{values}} \\cdot \\frac{\\text{LC50}_\\text{values} \\leq \\text{MEC}_\\text{max}}{\\text{LC50}_\\text{values}}\n",
    "$$\n",
    "\n",
    "If risk is 1 (100%), then the entire distributions overlap. If risk is 0, the distributions don't overlap at all."
   ]
  },
  {
   "cell_type": "code",
   "execution_count": 17,
   "metadata": {},
   "outputs": [
    {
     "name": "stderr",
     "output_type": "stream",
     "text": [
      "/tmp/ipykernel_1278467/2721409822.py:47: SettingWithCopyWarning:\n",
      "\n",
      "\n",
      "A value is trying to be set on a copy of a slice from a DataFrame\n",
      "\n",
      "See the caveats in the documentation: https://pandas.pydata.org/pandas-docs/stable/user_guide/indexing.html#returning-a-view-versus-a-copy\n",
      "\n"
     ]
    },
    {
     "data": {
      "image/png": "[encoded data removed]",
      "text/plain": [
       "<Figure size 800x400 with 1 Axes>"
      ]
     },
     "metadata": {},
     "output_type": "display_data"
    }
   ],
   "source": [
    "df_risk = pd.DataFrame({})\n",
    "\n",
    "# Loop through the compartments and chemicals\n",
    "for comp, chemicals in species_by_chemical.items():\n",
    "  # Empty dataframe to store risk values in\n",
    "  df_risk_ = pd.DataFrame({'chemical': chemicals.keys(),\n",
    "                          'risk': np.empty(len(chemicals)),\n",
    "                          'mean_err': np.empty(len(chemicals)),\n",
    "                          'compartment': comp})\n",
    "  # Loop over the chemicals\n",
    "  for chem_name, species in chemicals.items():\n",
    "    # Filter the dataframe just for this chemical\n",
    "    df_ = df_dists[(df_dists['compartment'] == comp) & (df_dists['chemical'] == chem_name)].reset_index()\n",
    "    # Get the MEC and PSSD rows\n",
    "    df_mec = df_[df_['endpoint'] == 'MEC']\n",
    "    df_pssd = df_[df_['endpoint'] == 'PSSD']\n",
    "    # Get the PSSD value at the maximum MEC value, which we define\n",
    "    # as the MEC CDF value closest to 0.999. First, get the row index\n",
    "    # at this location\n",
    "    i_mec_mecmax = df_mec['cdf'].sub(0.999).abs().idxmin()\n",
    "    # Then get the MEC concentration at this index\n",
    "    conc_mecmax = df_mec.loc[i_mec_mecmax]['conc']\n",
    "    # Get the index of the PSSD df row where the conc is closest to this\n",
    "    i_pssd_mecmax = df_pssd['conc'].sub(conc_mecmax).abs().idxmin()\n",
    "    # Then get the CDF value at this index\n",
    "    pssd_at_mecmax = df_pssd.loc[i_pssd_mecmax]['cdf']\n",
    "    # Repeat but this time getting the MEC CDF value at the minimum (0.001)\n",
    "    # PSSD value\n",
    "    i_pssd_pssdmin = df_pssd['cdf'].sub(0.001).abs().idxmin()\n",
    "    conc_pssdmin = df_pssd.loc[i_pssd_pssdmin]['conc']\n",
    "    i_mec_pssdmin = df_mec['conc'].sub(conc_pssdmin).abs().idxmin()\n",
    "    mec_at_pssdmin = df_mec.loc[i_mec_pssdmin]['cdf']\n",
    "    # Calculate risk as the product of these\n",
    "    risk = ((1 - mec_at_pssdmin) * pssd_at_mecmax) * 100\n",
    "    # Calculate the mean error so that we can properly rank the chemicals\n",
    "    mean_err = df_mec['conc'].mean() - df_pssd['conc'].mean()\n",
    "    # Add to our dataframe\n",
    "    df_risk_.loc[df_risk_['chemical'] == chem_name, 'risk'] = risk\n",
    "    df_risk_.loc[df_risk_['chemical'] == chem_name, 'mean_err'] = mean_err\n",
    "    \n",
    "  # Combine water and soil into one df  \n",
    "  df_risk = pd.concat([df_risk, df_risk_])\n",
    "    \n",
    "# Sort by risk and plot\n",
    "df_risk = df_risk.sort_values(['risk', 'mean_err'], ascending=False)\n",
    "df_risk['color'] = 'seagreen'\n",
    "df_risk.loc[:, 'color'][df_risk['compartment'] == 'water'] = 'lightsteelblue'\n",
    "\n",
    "fig, ax = plt.subplots(figsize=(8,4))\n",
    "ax = df_risk.plot.bar(x='chemical', y='risk', color=df_risk['color'], ax=ax)\n",
    "ax.legend(handles=[Patch(color=c, label=l) for l, c in {'Water': 'lightsteelblue', 'Soil': 'seagreen'}.items()])\n",
    "ax.set_xlabel('')\n",
    "ax.set_ylabel('Probabilistic risk (%)')\n",
    "\n",
    "fig.savefig('risk-ranking.png', dpi=400, bbox_inches='tight')"
   ]
  },
  {
   "cell_type": "markdown",
   "metadata": {
    "tags": []
   },
   "source": [
    "### Jensen-Shannon distance\n",
    "\n",
    "The second method of assessing risk we used is the Jensen-Shannon distance. This gives a value to how far apart the MEC and PSSD distributions are. The JS distance increases the further apart two distributions are, so gives us an indication of risk even if the distributions don't overlap and Gottschalk method returns a risk of 0. However, **it is symmetric**, meaning that it doesn't care which side the MEC and PSSD distribution are of each other. Therefore, if the MEC distribution is at a higher concentration than the PSSD (i.e. Copper), the Gottschalk method will predict 100%, whilst the JS distance will get smaller the further to the right the MEC concentrations are."
   ]
  },
  {
   "cell_type": "code",
   "execution_count": 18,
   "metadata": {},
   "outputs": [
    {
     "data": {
      "application/vnd.plotly.v1+json": {
       "config": {
        "plotlyServerURL": "https://plot.ly"
       },
       "data": [
        {
         "alignmentgroup": "True",
         "hovertemplate": "chemical=%{x}<br>risk=%{y}<extra></extra>",
         "legendgroup": "",
         "marker": {
          "color": "#636efa",
          "pattern": {
           "shape": ""
          }
         },
         "name": "",
         "offsetgroup": "",
         "orientation": "v",
         "showlegend": false,
         "textposition": "auto",
         "type": "bar",
         "x": [
          "Iron",
          "Lead",
          "Aluminium",
          "Manganese",
          "Zinc",
          "Cadmium",
          "Imidacloprid",
          "Copper",
          "Chromium",
          "Arsenic"
         ],
         "xaxis": "x",
         "y": [
          0.90098760002665,
          0.8555351705949125,
          0.8025866973861363,
          0.7839958841284411,
          0.776428739531278,
          0.7471677152234694,
          0.6030556986081277,
          0.5318513463295622,
          0.4785666717152479,
          0.2372736046364584
         ],
         "yaxis": "y"
        }
       ],
       "layout": {
        "autosize": true,
        "barmode": "relative",
        "legend": {
         "tracegroupgap": 0
        },
        "template": {
         "data": {
          "bar": [
           {
            "error_x": {
             "color": "#2a3f5f"
            },
            "error_y": {
             "color": "#2a3f5f"
            },
            "marker": {
             "line": {
              "color": "#E5ECF6",
              "width": 0.5
             },
             "pattern": {
              "fillmode": "overlay",
              "size": 10,
              "solidity": 0.2
             }
            },
            "type": "bar"
           }
          ],
          "barpolar": [
           {
            "marker": {
             "line": {
              "color": "#E5ECF6",
              "width": 0.5
             },
             "pattern": {
              "fillmode": "overlay",
              "size": 10,
              "solidity": 0.2
             }
            },
            "type": "barpolar"
           }
          ],
          "carpet": [
           {
            "aaxis": {
             "endlinecolor": "#2a3f5f",
             "gridcolor": "white",
             "linecolor": "white",
             "minorgridcolor": "white",
             "startlinecolor": "#2a3f5f"
            },
            "baxis": {
             "endlinecolor": "#2a3f5f",
             "gridcolor": "white",
             "linecolor": "white",
             "minorgridcolor": "white",
             "startlinecolor": "#2a3f5f"
            },
            "type": "carpet"
           }
          ],
          "choropleth": [
           {
            "colorbar": {
             "outlinewidth": 0,
             "ticks": ""
            },
            "type": "choropleth"
           }
          ],
          "contour": [
           {
            "colorbar": {
             "outlinewidth": 0,
             "ticks": ""
            },
            "colorscale": [
             [
              0,
              "#0d0887"
             ],
             [
              0.1111111111111111,
              "#46039f"
             ],
             [
              0.2222222222222222,
              "#7201a8"
             ],
             [
              0.3333333333333333,
              "#9c179e"
             ],
             [
              0.4444444444444444,
              "#bd3786"
             ],
             [
              0.5555555555555556,
              "#d8576b"
             ],
             [
              0.6666666666666666,
              "#ed7953"
             ],
             [
              0.7777777777777778,
              "#fb9f3a"
             ],
             [
              0.8888888888888888,
              "#fdca26"
             ],
             [
              1,
              "#f0f921"
             ]
            ],
            "type": "contour"
           }
          ],
          "contourcarpet": [
           {
            "colorbar": {
             "outlinewidth": 0,
             "ticks": ""
            },
            "type": "contourcarpet"
           }
          ],
          "heatmap": [
           {
            "colorbar": {
             "outlinewidth": 0,
             "ticks": ""
            },
            "colorscale": [
             [
              0,
              "#0d0887"
             ],
             [
              0.1111111111111111,
              "#46039f"
             ],
             [
              0.2222222222222222,
              "#7201a8"
             ],
             [
              0.3333333333333333,
              "#9c179e"
             ],
             [
              0.4444444444444444,
              "#bd3786"
             ],
             [
              0.5555555555555556,
              "#d8576b"
             ],
             [
              0.6666666666666666,
              "#ed7953"
             ],
             [
              0.7777777777777778,
              "#fb9f3a"
             ],
             [
              0.8888888888888888,
              "#fdca26"
             ],
             [
              1,
              "#f0f921"
             ]
            ],
            "type": "heatmap"
           }
          ],
          "heatmapgl": [
           {
            "colorbar": {
             "outlinewidth": 0,
             "ticks": ""
            },
            "colorscale": [
             [
              0,
              "#0d0887"
             ],
             [
              0.1111111111111111,
              "#46039f"
             ],
             [
              0.2222222222222222,
              "#7201a8"
             ],
             [
              0.3333333333333333,
              "#9c179e"
             ],
             [
              0.4444444444444444,
              "#bd3786"
             ],
             [
              0.5555555555555556,
              "#d8576b"
             ],
             [
              0.6666666666666666,
              "#ed7953"
             ],
             [
              0.7777777777777778,
              "#fb9f3a"
             ],
             [
              0.8888888888888888,
              "#fdca26"
             ],
             [
              1,
              "#f0f921"
             ]
            ],
            "type": "heatmapgl"
           }
          ],
          "histogram": [
           {
            "marker": {
             "pattern": {
              "fillmode": "overlay",
              "size": 10,
              "solidity": 0.2
             }
            },
            "type": "histogram"
           }
          ],
          "histogram2d": [
           {
            "colorbar": {
             "outlinewidth": 0,
             "ticks": ""
            },
            "colorscale": [
             [
              0,
              "#0d0887"
             ],
             [
              0.1111111111111111,
              "#46039f"
             ],
             [
              0.2222222222222222,
              "#7201a8"
             ],
             [
              0.3333333333333333,
              "#9c179e"
             ],
             [
              0.4444444444444444,
              "#bd3786"
             ],
             [
              0.5555555555555556,
              "#d8576b"
             ],
             [
              0.6666666666666666,
              "#ed7953"
             ],
             [
              0.7777777777777778,
              "#fb9f3a"
             ],
             [
              0.8888888888888888,
              "#fdca26"
             ],
             [
              1,
              "#f0f921"
             ]
            ],
            "type": "histogram2d"
           }
          ],
          "histogram2dcontour": [
           {
            "colorbar": {
             "outlinewidth": 0,
             "ticks": ""
            },
            "colorscale": [
             [
              0,
              "#0d0887"
             ],
             [
              0.1111111111111111,
              "#46039f"
             ],
             [
              0.2222222222222222,
              "#7201a8"
             ],
             [
              0.3333333333333333,
              "#9c179e"
             ],
             [
              0.4444444444444444,
              "#bd3786"
             ],
             [
              0.5555555555555556,
              "#d8576b"
             ],
             [
              0.6666666666666666,
              "#ed7953"
             ],
             [
              0.7777777777777778,
              "#fb9f3a"
             ],
             [
              0.8888888888888888,
              "#fdca26"
             ],
             [
              1,
              "#f0f921"
             ]
            ],
            "type": "histogram2dcontour"
           }
          ],
          "mesh3d": [
           {
            "colorbar": {
             "outlinewidth": 0,
             "ticks": ""
            },
            "type": "mesh3d"
           }
          ],
          "parcoords": [
           {
            "line": {
             "colorbar": {
              "outlinewidth": 0,
              "ticks": ""
             }
            },
            "type": "parcoords"
           }
          ],
          "pie": [
           {
            "automargin": true,
            "type": "pie"
           }
          ],
          "scatter": [
           {
            "fillpattern": {
             "fillmode": "overlay",
             "size": 10,
             "solidity": 0.2
            },
            "type": "scatter"
           }
          ],
          "scatter3d": [
           {
            "line": {
             "colorbar": {
              "outlinewidth": 0,
              "ticks": ""
             }
            },
            "marker": {
             "colorbar": {
              "outlinewidth": 0,
              "ticks": ""
             }
            },
            "type": "scatter3d"
           }
          ],
          "scattercarpet": [
           {
            "marker": {
             "colorbar": {
              "outlinewidth": 0,
              "ticks": ""
             }
            },
            "type": "scattercarpet"
           }
          ],
          "scattergeo": [
           {
            "marker": {
             "colorbar": {
              "outlinewidth": 0,
              "ticks": ""
             }
            },
            "type": "scattergeo"
           }
          ],
          "scattergl": [
           {
            "marker": {
             "colorbar": {
              "outlinewidth": 0,
              "ticks": ""
             }
            },
            "type": "scattergl"
           }
          ],
          "scattermapbox": [
           {
            "marker": {
             "colorbar": {
              "outlinewidth": 0,
              "ticks": ""
             }
            },
            "type": "scattermapbox"
           }
          ],
          "scatterpolar": [
           {
            "marker": {
             "colorbar": {
              "outlinewidth": 0,
              "ticks": ""
             }
            },
            "type": "scatterpolar"
           }
          ],
          "scatterpolargl": [
           {
            "marker": {
             "colorbar": {
              "outlinewidth": 0,
              "ticks": ""
             }
            },
            "type": "scatterpolargl"
           }
          ],
          "scatterternary": [
           {
            "marker": {
             "colorbar": {
              "outlinewidth": 0,
              "ticks": ""
             }
            },
            "type": "scatterternary"
           }
          ],
          "surface": [
           {
            "colorbar": {
             "outlinewidth": 0,
             "ticks": ""
            },
            "colorscale": [
             [
              0,
              "#0d0887"
             ],
             [
              0.1111111111111111,
              "#46039f"
             ],
             [
              0.2222222222222222,
              "#7201a8"
             ],
             [
              0.3333333333333333,
              "#9c179e"
             ],
             [
              0.4444444444444444,
              "#bd3786"
             ],
             [
              0.5555555555555556,
              "#d8576b"
             ],
             [
              0.6666666666666666,
              "#ed7953"
             ],
             [
              0.7777777777777778,
              "#fb9f3a"
             ],
             [
              0.8888888888888888,
              "#fdca26"
             ],
             [
              1,
              "#f0f921"
             ]
            ],
            "type": "surface"
           }
          ],
          "table": [
           {
            "cells": {
             "fill": {
              "color": "#EBF0F8"
             },
             "line": {
              "color": "white"
             }
            },
            "header": {
             "fill": {
              "color": "#C8D4E3"
             },
             "line": {
              "color": "white"
             }
            },
            "type": "table"
           }
          ]
         },
         "layout": {
          "annotationdefaults": {
           "arrowcolor": "#2a3f5f",
           "arrowhead": 0,
           "arrowwidth": 1
          },
          "autotypenumbers": "strict",
          "coloraxis": {
           "colorbar": {
            "outlinewidth": 0,
            "ticks": ""
           }
          },
          "colorscale": {
           "diverging": [
            [
             0,
             "#8e0152"
            ],
            [
             0.1,
             "#c51b7d"
            ],
            [
             0.2,
             "#de77ae"
            ],
            [
             0.3,
             "#f1b6da"
            ],
            [
             0.4,
             "#fde0ef"
            ],
            [
             0.5,
             "#f7f7f7"
            ],
            [
             0.6,
             "#e6f5d0"
            ],
            [
             0.7,
             "#b8e186"
            ],
            [
             0.8,
             "#7fbc41"
            ],
            [
             0.9,
             "#4d9221"
            ],
            [
             1,
             "#276419"
            ]
           ],
           "sequential": [
            [
             0,
             "#0d0887"
            ],
            [
             0.1111111111111111,
             "#46039f"
            ],
            [
             0.2222222222222222,
             "#7201a8"
            ],
            [
             0.3333333333333333,
             "#9c179e"
            ],
            [
             0.4444444444444444,
             "#bd3786"
            ],
            [
             0.5555555555555556,
             "#d8576b"
            ],
            [
             0.6666666666666666,
             "#ed7953"
            ],
            [
             0.7777777777777778,
             "#fb9f3a"
            ],
            [
             0.8888888888888888,
             "#fdca26"
            ],
            [
             1,
             "#f0f921"
            ]
           ],
           "sequentialminus": [
            [
             0,
             "#0d0887"
            ],
            [
             0.1111111111111111,
             "#46039f"
            ],
            [
             0.2222222222222222,
             "#7201a8"
            ],
            [
             0.3333333333333333,
             "#9c179e"
            ],
            [
             0.4444444444444444,
             "#bd3786"
            ],
            [
             0.5555555555555556,
             "#d8576b"
            ],
            [
             0.6666666666666666,
             "#ed7953"
            ],
            [
             0.7777777777777778,
             "#fb9f3a"
            ],
            [
             0.8888888888888888,
             "#fdca26"
            ],
            [
             1,
             "#f0f921"
            ]
           ]
          },
          "colorway": [
           "#636efa",
           "#EF553B",
           "#00cc96",
           "#ab63fa",
           "#FFA15A",
           "#19d3f3",
           "#FF6692",
           "#B6E880",
           "#FF97FF",
           "#FECB52"
          ],
          "font": {
           "color": "#2a3f5f"
          },
          "geo": {
           "bgcolor": "white",
           "lakecolor": "white",
           "landcolor": "#E5ECF6",
           "showlakes": true,
           "showland": true,
           "subunitcolor": "white"
          },
          "hoverlabel": {
           "align": "left"
          },
          "hovermode": "closest",
          "mapbox": {
           "style": "light"
          },
          "paper_bgcolor": "white",
          "plot_bgcolor": "#E5ECF6",
          "polar": {
           "angularaxis": {
            "gridcolor": "white",
            "linecolor": "white",
            "ticks": ""
           },
           "bgcolor": "#E5ECF6",
           "radialaxis": {
            "gridcolor": "white",
            "linecolor": "white",
            "ticks": ""
           }
          },
          "scene": {
           "xaxis": {
            "backgroundcolor": "#E5ECF6",
            "gridcolor": "white",
            "gridwidth": 2,
            "linecolor": "white",
            "showbackground": true,
            "ticks": "",
            "zerolinecolor": "white"
           },
           "yaxis": {
            "backgroundcolor": "#E5ECF6",
            "gridcolor": "white",
            "gridwidth": 2,
            "linecolor": "white",
            "showbackground": true,
            "ticks": "",
            "zerolinecolor": "white"
           },
           "zaxis": {
            "backgroundcolor": "#E5ECF6",
            "gridcolor": "white",
            "gridwidth": 2,
            "linecolor": "white",
            "showbackground": true,
            "ticks": "",
            "zerolinecolor": "white"
           }
          },
          "shapedefaults": {
           "line": {
            "color": "#2a3f5f"
           }
          },
          "ternary": {
           "aaxis": {
            "gridcolor": "white",
            "linecolor": "white",
            "ticks": ""
           },
           "baxis": {
            "gridcolor": "white",
            "linecolor": "white",
            "ticks": ""
           },
           "bgcolor": "#E5ECF6",
           "caxis": {
            "gridcolor": "white",
            "linecolor": "white",
            "ticks": ""
           }
          },
          "title": {
           "x": 0.05
          },
          "xaxis": {
           "automargin": true,
           "gridcolor": "white",
           "linecolor": "white",
           "ticks": "",
           "title": {
            "standoff": 15
           },
           "zerolinecolor": "white",
           "zerolinewidth": 2
          },
          "yaxis": {
           "automargin": true,
           "gridcolor": "white",
           "linecolor": "white",
           "ticks": "",
           "title": {
            "standoff": 15
           },
           "zerolinecolor": "white",
           "zerolinewidth": 2
          }
         }
        },
        "title": {
         "text": "Water"
        },
        "xaxis": {
         "anchor": "y",
         "autorange": true,
         "domain": [
          0,
          1
         ],
         "range": [
          -0.5,
          9.5
         ],
         "title": {
          "text": "chemical"
         },
         "type": "category"
        },
        "yaxis": {
         "anchor": "x",
         "autorange": true,
         "domain": [
          0,
          1
         ],
         "range": [
          0,
          0.9484080000280527
         ],
         "title": {
          "text": "risk"
         },
         "type": "linear"
        }
       }
      },
      "image/png": "[encoded data removed]",
      "text/html": [
       "<div>                            <div id=\"33b4bd78-91ac-4e2c-a86d-133429c3404d\" class=\"plotly-graph-div\" style=\"height:525px; width:100%;\"></div>            <script type=\"text/javascript\">                require([\"plotly\"], function(Plotly) {                    window.PLOTLYENV=window.PLOTLYENV || {};                                    if (document.getElementById(\"33b4bd78-91ac-4e2c-a86d-133429c3404d\")) {                    Plotly.newPlot(                        \"33b4bd78-91ac-4e2c-a86d-133429c3404d\",                        [{\"alignmentgroup\":\"True\",\"hovertemplate\":\"chemical=%{x}<br>risk=%{y}<extra></extra>\",\"legendgroup\":\"\",\"marker\":{\"color\":\"#636efa\",\"pattern\":{\"shape\":\"\"}},\"name\":\"\",\"offsetgroup\":\"\",\"orientation\":\"v\",\"showlegend\":false,\"textposition\":\"auto\",\"x\":[\"Iron\",\"Lead\",\"Aluminium\",\"Manganese\",\"Zinc\",\"Cadmium\",\"Imidacloprid\",\"Copper\",\"Chromium\",\"Arsenic\"],\"xaxis\":\"x\",\"y\":[0.90098760002665,0.8555351705949125,0.8025866973861363,0.7839958841284411,0.776428739531278,0.7471677152234694,0.6030556986081277,0.5318513463295622,0.4785666717152479,0.2372736046364584],\"yaxis\":\"y\",\"type\":\"bar\"}],                        {\"template\":{\"data\":{\"histogram2dcontour\":[{\"type\":\"histogram2dcontour\",\"colorbar\":{\"outlinewidth\":0,\"ticks\":\"\"},\"colorscale\":[[0.0,\"#0d0887\"],[0.1111111111111111,\"#46039f\"],[0.2222222222222222,\"#7201a8\"],[0.3333333333333333,\"#9c179e\"],[0.4444444444444444,\"#bd3786\"],[0.5555555555555556,\"#d8576b\"],[0.6666666666666666,\"#ed7953\"],[0.7777777777777778,\"#fb9f3a\"],[0.8888888888888888,\"#fdca26\"],[1.0,\"#f0f921\"]]}],\"choropleth\":[{\"type\":\"choropleth\",\"colorbar\":{\"outlinewidth\":0,\"ticks\":\"\"}}],\"histogram2d\":[{\"type\":\"histogram2d\",\"colorbar\":{\"outlinewidth\":0,\"ticks\":\"\"},\"colorscale\":[[0.0,\"#0d0887\"],[0.1111111111111111,\"#46039f\"],[0.2222222222222222,\"#7201a8\"],[0.3333333333333333,\"#9c179e\"],[0.4444444444444444,\"#bd3786\"],[0.5555555555555556,\"#d8576b\"],[0.6666666666666666,\"#ed7953\"],[0.7777777777777778,\"#fb9f3a\"],[0.8888888888888888,\"#fdca26\"],[1.0,\"#f0f921\"]]}],\"heatmap\":[{\"type\":\"heatmap\",\"colorbar\":{\"outlinewidth\":0,\"ticks\":\"\"},\"colorscale\":[[0.0,\"#0d0887\"],[0.1111111111111111,\"#46039f\"],[0.2222222222222222,\"#7201a8\"],[0.3333333333333333,\"#9c179e\"],[0.4444444444444444,\"#bd3786\"],[0.5555555555555556,\"#d8576b\"],[0.6666666666666666,\"#ed7953\"],[0.7777777777777778,\"#fb9f3a\"],[0.8888888888888888,\"#fdca26\"],[1.0,\"#f0f921\"]]}],\"heatmapgl\":[{\"type\":\"heatmapgl\",\"colorbar\":{\"outlinewidth\":0,\"ticks\":\"\"},\"colorscale\":[[0.0,\"#0d0887\"],[0.1111111111111111,\"#46039f\"],[0.2222222222222222,\"#7201a8\"],[0.3333333333333333,\"#9c179e\"],[0.4444444444444444,\"#bd3786\"],[0.5555555555555556,\"#d8576b\"],[0.6666666666666666,\"#ed7953\"],[0.7777777777777778,\"#fb9f3a\"],[0.8888888888888888,\"#fdca26\"],[1.0,\"#f0f921\"]]}],\"contourcarpet\":[{\"type\":\"contourcarpet\",\"colorbar\":{\"outlinewidth\":0,\"ticks\":\"\"}}],\"contour\":[{\"type\":\"contour\",\"colorbar\":{\"outlinewidth\":0,\"ticks\":\"\"},\"colorscale\":[[0.0,\"#0d0887\"],[0.1111111111111111,\"#46039f\"],[0.2222222222222222,\"#7201a8\"],[0.3333333333333333,\"#9c179e\"],[0.4444444444444444,\"#bd3786\"],[0.5555555555555556,\"#d8576b\"],[0.6666666666666666,\"#ed7953\"],[0.7777777777777778,\"#fb9f3a\"],[0.8888888888888888,\"#fdca26\"],[1.0,\"#f0f921\"]]}],\"surface\":[{\"type\":\"surface\",\"colorbar\":{\"outlinewidth\":0,\"ticks\":\"\"},\"colorscale\":[[0.0,\"#0d0887\"],[0.1111111111111111,\"#46039f\"],[0.2222222222222222,\"#7201a8\"],[0.3333333333333333,\"#9c179e\"],[0.4444444444444444,\"#bd3786\"],[0.5555555555555556,\"#d8576b\"],[0.6666666666666666,\"#ed7953\"],[0.7777777777777778,\"#fb9f3a\"],[0.8888888888888888,\"#fdca26\"],[1.0,\"#f0f921\"]]}],\"mesh3d\":[{\"type\":\"mesh3d\",\"colorbar\":{\"outlinewidth\":0,\"ticks\":\"\"}}],\"scatter\":[{\"fillpattern\":{\"fillmode\":\"overlay\",\"size\":10,\"solidity\":0.2},\"type\":\"scatter\"}],\"parcoords\":[{\"type\":\"parcoords\",\"line\":{\"colorbar\":{\"outlinewidth\":0,\"ticks\":\"\"}}}],\"scatterpolargl\":[{\"type\":\"scatterpolargl\",\"marker\":{\"colorbar\":{\"outlinewidth\":0,\"ticks\":\"\"}}}],\"bar\":[{\"error_x\":{\"color\":\"#2a3f5f\"},\"error_y\":{\"color\":\"#2a3f5f\"},\"marker\":{\"line\":{\"color\":\"#E5ECF6\",\"width\":0.5},\"pattern\":{\"fillmode\":\"overlay\",\"size\":10,\"solidity\":0.2}},\"type\":\"bar\"}],\"scattergeo\":[{\"type\":\"scattergeo\",\"marker\":{\"colorbar\":{\"outlinewidth\":0,\"ticks\":\"\"}}}],\"scatterpolar\":[{\"type\":\"scatterpolar\",\"marker\":{\"colorbar\":{\"outlinewidth\":0,\"ticks\":\"\"}}}],\"histogram\":[{\"marker\":{\"pattern\":{\"fillmode\":\"overlay\",\"size\":10,\"solidity\":0.2}},\"type\":\"histogram\"}],\"scattergl\":[{\"type\":\"scattergl\",\"marker\":{\"colorbar\":{\"outlinewidth\":0,\"ticks\":\"\"}}}],\"scatter3d\":[{\"type\":\"scatter3d\",\"line\":{\"colorbar\":{\"outlinewidth\":0,\"ticks\":\"\"}},\"marker\":{\"colorbar\":{\"outlinewidth\":0,\"ticks\":\"\"}}}],\"scattermapbox\":[{\"type\":\"scattermapbox\",\"marker\":{\"colorbar\":{\"outlinewidth\":0,\"ticks\":\"\"}}}],\"scatterternary\":[{\"type\":\"scatterternary\",\"marker\":{\"colorbar\":{\"outlinewidth\":0,\"ticks\":\"\"}}}],\"scattercarpet\":[{\"type\":\"scattercarpet\",\"marker\":{\"colorbar\":{\"outlinewidth\":0,\"ticks\":\"\"}}}],\"carpet\":[{\"aaxis\":{\"endlinecolor\":\"#2a3f5f\",\"gridcolor\":\"white\",\"linecolor\":\"white\",\"minorgridcolor\":\"white\",\"startlinecolor\":\"#2a3f5f\"},\"baxis\":{\"endlinecolor\":\"#2a3f5f\",\"gridcolor\":\"white\",\"linecolor\":\"white\",\"minorgridcolor\":\"white\",\"startlinecolor\":\"#2a3f5f\"},\"type\":\"carpet\"}],\"table\":[{\"cells\":{\"fill\":{\"color\":\"#EBF0F8\"},\"line\":{\"color\":\"white\"}},\"header\":{\"fill\":{\"color\":\"#C8D4E3\"},\"line\":{\"color\":\"white\"}},\"type\":\"table\"}],\"barpolar\":[{\"marker\":{\"line\":{\"color\":\"#E5ECF6\",\"width\":0.5},\"pattern\":{\"fillmode\":\"overlay\",\"size\":10,\"solidity\":0.2}},\"type\":\"barpolar\"}],\"pie\":[{\"automargin\":true,\"type\":\"pie\"}]},\"layout\":{\"autotypenumbers\":\"strict\",\"colorway\":[\"#636efa\",\"#EF553B\",\"#00cc96\",\"#ab63fa\",\"#FFA15A\",\"#19d3f3\",\"#FF6692\",\"#B6E880\",\"#FF97FF\",\"#FECB52\"],\"font\":{\"color\":\"#2a3f5f\"},\"hovermode\":\"closest\",\"hoverlabel\":{\"align\":\"left\"},\"paper_bgcolor\":\"white\",\"plot_bgcolor\":\"#E5ECF6\",\"polar\":{\"bgcolor\":\"#E5ECF6\",\"angularaxis\":{\"gridcolor\":\"white\",\"linecolor\":\"white\",\"ticks\":\"\"},\"radialaxis\":{\"gridcolor\":\"white\",\"linecolor\":\"white\",\"ticks\":\"\"}},\"ternary\":{\"bgcolor\":\"#E5ECF6\",\"aaxis\":{\"gridcolor\":\"white\",\"linecolor\":\"white\",\"ticks\":\"\"},\"baxis\":{\"gridcolor\":\"white\",\"linecolor\":\"white\",\"ticks\":\"\"},\"caxis\":{\"gridcolor\":\"white\",\"linecolor\":\"white\",\"ticks\":\"\"}},\"coloraxis\":{\"colorbar\":{\"outlinewidth\":0,\"ticks\":\"\"}},\"colorscale\":{\"sequential\":[[0.0,\"#0d0887\"],[0.1111111111111111,\"#46039f\"],[0.2222222222222222,\"#7201a8\"],[0.3333333333333333,\"#9c179e\"],[0.4444444444444444,\"#bd3786\"],[0.5555555555555556,\"#d8576b\"],[0.6666666666666666,\"#ed7953\"],[0.7777777777777778,\"#fb9f3a\"],[0.8888888888888888,\"#fdca26\"],[1.0,\"#f0f921\"]],\"sequentialminus\":[[0.0,\"#0d0887\"],[0.1111111111111111,\"#46039f\"],[0.2222222222222222,\"#7201a8\"],[0.3333333333333333,\"#9c179e\"],[0.4444444444444444,\"#bd3786\"],[0.5555555555555556,\"#d8576b\"],[0.6666666666666666,\"#ed7953\"],[0.7777777777777778,\"#fb9f3a\"],[0.8888888888888888,\"#fdca26\"],[1.0,\"#f0f921\"]],\"diverging\":[[0,\"#8e0152\"],[0.1,\"#c51b7d\"],[0.2,\"#de77ae\"],[0.3,\"#f1b6da\"],[0.4,\"#fde0ef\"],[0.5,\"#f7f7f7\"],[0.6,\"#e6f5d0\"],[0.7,\"#b8e186\"],[0.8,\"#7fbc41\"],[0.9,\"#4d9221\"],[1,\"#276419\"]]},\"xaxis\":{\"gridcolor\":\"white\",\"linecolor\":\"white\",\"ticks\":\"\",\"title\":{\"standoff\":15},\"zerolinecolor\":\"white\",\"automargin\":true,\"zerolinewidth\":2},\"yaxis\":{\"gridcolor\":\"white\",\"linecolor\":\"white\",\"ticks\":\"\",\"title\":{\"standoff\":15},\"zerolinecolor\":\"white\",\"automargin\":true,\"zerolinewidth\":2},\"scene\":{\"xaxis\":{\"backgroundcolor\":\"#E5ECF6\",\"gridcolor\":\"white\",\"linecolor\":\"white\",\"showbackground\":true,\"ticks\":\"\",\"zerolinecolor\":\"white\",\"gridwidth\":2},\"yaxis\":{\"backgroundcolor\":\"#E5ECF6\",\"gridcolor\":\"white\",\"linecolor\":\"white\",\"showbackground\":true,\"ticks\":\"\",\"zerolinecolor\":\"white\",\"gridwidth\":2},\"zaxis\":{\"backgroundcolor\":\"#E5ECF6\",\"gridcolor\":\"white\",\"linecolor\":\"white\",\"showbackground\":true,\"ticks\":\"\",\"zerolinecolor\":\"white\",\"gridwidth\":2}},\"shapedefaults\":{\"line\":{\"color\":\"#2a3f5f\"}},\"annotationdefaults\":{\"arrowcolor\":\"#2a3f5f\",\"arrowhead\":0,\"arrowwidth\":1},\"geo\":{\"bgcolor\":\"white\",\"landcolor\":\"#E5ECF6\",\"subunitcolor\":\"white\",\"showland\":true,\"showlakes\":true,\"lakecolor\":\"white\"},\"title\":{\"x\":0.05},\"mapbox\":{\"style\":\"light\"}}},\"xaxis\":{\"anchor\":\"y\",\"domain\":[0.0,1.0],\"title\":{\"text\":\"chemical\"}},\"yaxis\":{\"anchor\":\"x\",\"domain\":[0.0,1.0],\"title\":{\"text\":\"risk\"}},\"legend\":{\"tracegroupgap\":0},\"title\":{\"text\":\"Water\"},\"barmode\":\"relative\"},                        {\"responsive\": true}                    ).then(function(){\n",
       "                            \n",
       "var gd = document.getElementById('33b4bd78-91ac-4e2c-a86d-133429c3404d');\n",
       "var x = new MutationObserver(function (mutations, observer) {{\n",
       "        var display = window.getComputedStyle(gd).display;\n",
       "        if (!display || display === 'none') {{\n",
       "            console.log([gd, 'removed!']);\n",
       "            Plotly.purge(gd);\n",
       "            observer.disconnect();\n",
       "        }}\n",
       "}});\n",
       "\n",
       "// Listen for the removal of the full notebook cells\n",
       "var notebookContainer = gd.closest('#notebook-container');\n",
       "if (notebookContainer) {{\n",
       "    x.observe(notebookContainer, {childList: true});\n",
       "}}\n",
       "\n",
       "// Listen for the clearing of the current output cell\n",
       "var outputEl = gd.closest('.output');\n",
       "if (outputEl) {{\n",
       "    x.observe(outputEl, {childList: true});\n",
       "}}\n",
       "\n",
       "                        })                };                });            </script>        </div>"
      ]
     },
     "metadata": {},
     "output_type": "display_data"
    },
    {
     "data": {
      "application/vnd.plotly.v1+json": {
       "config": {
        "plotlyServerURL": "https://plot.ly"
       },
       "data": [
        {
         "alignmentgroup": "True",
         "hovertemplate": "chemical=%{x}<br>risk=%{y}<extra></extra>",
         "legendgroup": "",
         "marker": {
          "color": "#636efa",
          "pattern": {
           "shape": ""
          }
         },
         "name": "",
         "offsetgroup": "",
         "orientation": "v",
         "showlegend": false,
         "textposition": "auto",
         "type": "bar",
         "x": [
          "Copper",
          "Cadmium",
          "Glufosinate ammonium",
          "Zinc",
          "Nickel"
         ],
         "xaxis": "x",
         "y": [
          0.6734528202156228,
          0.3453375539177739,
          0.34336689056634195,
          0.3365668977226758,
          0.22484380353277134
         ],
         "yaxis": "y"
        }
       ],
       "layout": {
        "autosize": true,
        "barmode": "relative",
        "legend": {
         "tracegroupgap": 0
        },
        "template": {
         "data": {
          "bar": [
           {
            "error_x": {
             "color": "#2a3f5f"
            },
            "error_y": {
             "color": "#2a3f5f"
            },
            "marker": {
             "line": {
              "color": "#E5ECF6",
              "width": 0.5
             },
             "pattern": {
              "fillmode": "overlay",
              "size": 10,
              "solidity": 0.2
             }
            },
            "type": "bar"
           }
          ],
          "barpolar": [
           {
            "marker": {
             "line": {
              "color": "#E5ECF6",
              "width": 0.5
             },
             "pattern": {
              "fillmode": "overlay",
              "size": 10,
              "solidity": 0.2
             }
            },
            "type": "barpolar"
           }
          ],
          "carpet": [
           {
            "aaxis": {
             "endlinecolor": "#2a3f5f",
             "gridcolor": "white",
             "linecolor": "white",
             "minorgridcolor": "white",
             "startlinecolor": "#2a3f5f"
            },
            "baxis": {
             "endlinecolor": "#2a3f5f",
             "gridcolor": "white",
             "linecolor": "white",
             "minorgridcolor": "white",
             "startlinecolor": "#2a3f5f"
            },
            "type": "carpet"
           }
          ],
          "choropleth": [
           {
            "colorbar": {
             "outlinewidth": 0,
             "ticks": ""
            },
            "type": "choropleth"
           }
          ],
          "contour": [
           {
            "colorbar": {
             "outlinewidth": 0,
             "ticks": ""
            },
            "colorscale": [
             [
              0,
              "#0d0887"
             ],
             [
              0.1111111111111111,
              "#46039f"
             ],
             [
              0.2222222222222222,
              "#7201a8"
             ],
             [
              0.3333333333333333,
              "#9c179e"
             ],
             [
              0.4444444444444444,
              "#bd3786"
             ],
             [
              0.5555555555555556,
              "#d8576b"
             ],
             [
              0.6666666666666666,
              "#ed7953"
             ],
             [
              0.7777777777777778,
              "#fb9f3a"
             ],
             [
              0.8888888888888888,
              "#fdca26"
             ],
             [
              1,
              "#f0f921"
             ]
            ],
            "type": "contour"
           }
          ],
          "contourcarpet": [
           {
            "colorbar": {
             "outlinewidth": 0,
             "ticks": ""
            },
            "type": "contourcarpet"
           }
          ],
          "heatmap": [
           {
            "colorbar": {
             "outlinewidth": 0,
             "ticks": ""
            },
            "colorscale": [
             [
              0,
              "#0d0887"
             ],
             [
              0.1111111111111111,
              "#46039f"
             ],
             [
              0.2222222222222222,
              "#7201a8"
             ],
             [
              0.3333333333333333,
              "#9c179e"
             ],
             [
              0.4444444444444444,
              "#bd3786"
             ],
             [
              0.5555555555555556,
              "#d8576b"
             ],
             [
              0.6666666666666666,
              "#ed7953"
             ],
             [
              0.7777777777777778,
              "#fb9f3a"
             ],
             [
              0.8888888888888888,
              "#fdca26"
             ],
             [
              1,
              "#f0f921"
             ]
            ],
            "type": "heatmap"
           }
          ],
          "heatmapgl": [
           {
            "colorbar": {
             "outlinewidth": 0,
             "ticks": ""
            },
            "colorscale": [
             [
              0,
              "#0d0887"
             ],
             [
              0.1111111111111111,
              "#46039f"
             ],
             [
              0.2222222222222222,
              "#7201a8"
             ],
             [
              0.3333333333333333,
              "#9c179e"
             ],
             [
              0.4444444444444444,
              "#bd3786"
             ],
             [
              0.5555555555555556,
              "#d8576b"
             ],
             [
              0.6666666666666666,
              "#ed7953"
             ],
             [
              0.7777777777777778,
              "#fb9f3a"
             ],
             [
              0.8888888888888888,
              "#fdca26"
             ],
             [
              1,
              "#f0f921"
             ]
            ],
            "type": "heatmapgl"
           }
          ],
          "histogram": [
           {
            "marker": {
             "pattern": {
              "fillmode": "overlay",
              "size": 10,
              "solidity": 0.2
             }
            },
            "type": "histogram"
           }
          ],
          "histogram2d": [
           {
            "colorbar": {
             "outlinewidth": 0,
             "ticks": ""
            },
            "colorscale": [
             [
              0,
              "#0d0887"
             ],
             [
              0.1111111111111111,
              "#46039f"
             ],
             [
              0.2222222222222222,
              "#7201a8"
             ],
             [
              0.3333333333333333,
              "#9c179e"
             ],
             [
              0.4444444444444444,
              "#bd3786"
             ],
             [
              0.5555555555555556,
              "#d8576b"
             ],
             [
              0.6666666666666666,
              "#ed7953"
             ],
             [
              0.7777777777777778,
              "#fb9f3a"
             ],
             [
              0.8888888888888888,
              "#fdca26"
             ],
             [
              1,
              "#f0f921"
             ]
            ],
            "type": "histogram2d"
           }
          ],
          "histogram2dcontour": [
           {
            "colorbar": {
             "outlinewidth": 0,
             "ticks": ""
            },
            "colorscale": [
             [
              0,
              "#0d0887"
             ],
             [
              0.1111111111111111,
              "#46039f"
             ],
             [
              0.2222222222222222,
              "#7201a8"
             ],
             [
              0.3333333333333333,
              "#9c179e"
             ],
             [
              0.4444444444444444,
              "#bd3786"
             ],
             [
              0.5555555555555556,
              "#d8576b"
             ],
             [
              0.6666666666666666,
              "#ed7953"
             ],
             [
              0.7777777777777778,
              "#fb9f3a"
             ],
             [
              0.8888888888888888,
              "#fdca26"
             ],
             [
              1,
              "#f0f921"
             ]
            ],
            "type": "histogram2dcontour"
           }
          ],
          "mesh3d": [
           {
            "colorbar": {
             "outlinewidth": 0,
             "ticks": ""
            },
            "type": "mesh3d"
           }
          ],
          "parcoords": [
           {
            "line": {
             "colorbar": {
              "outlinewidth": 0,
              "ticks": ""
             }
            },
            "type": "parcoords"
           }
          ],
          "pie": [
           {
            "automargin": true,
            "type": "pie"
           }
          ],
          "scatter": [
           {
            "fillpattern": {
             "fillmode": "overlay",
             "size": 10,
             "solidity": 0.2
            },
            "type": "scatter"
           }
          ],
          "scatter3d": [
           {
            "line": {
             "colorbar": {
              "outlinewidth": 0,
              "ticks": ""
             }
            },
            "marker": {
             "colorbar": {
              "outlinewidth": 0,
              "ticks": ""
             }
            },
            "type": "scatter3d"
           }
          ],
          "scattercarpet": [
           {
            "marker": {
             "colorbar": {
              "outlinewidth": 0,
              "ticks": ""
             }
            },
            "type": "scattercarpet"
           }
          ],
          "scattergeo": [
           {
            "marker": {
             "colorbar": {
              "outlinewidth": 0,
              "ticks": ""
             }
            },
            "type": "scattergeo"
           }
          ],
          "scattergl": [
           {
            "marker": {
             "colorbar": {
              "outlinewidth": 0,
              "ticks": ""
             }
            },
            "type": "scattergl"
           }
          ],
          "scattermapbox": [
           {
            "marker": {
             "colorbar": {
              "outlinewidth": 0,
              "ticks": ""
             }
            },
            "type": "scattermapbox"
           }
          ],
          "scatterpolar": [
           {
            "marker": {
             "colorbar": {
              "outlinewidth": 0,
              "ticks": ""
             }
            },
            "type": "scatterpolar"
           }
          ],
          "scatterpolargl": [
           {
            "marker": {
             "colorbar": {
              "outlinewidth": 0,
              "ticks": ""
             }
            },
            "type": "scatterpolargl"
           }
          ],
          "scatterternary": [
           {
            "marker": {
             "colorbar": {
              "outlinewidth": 0,
              "ticks": ""
             }
            },
            "type": "scatterternary"
           }
          ],
          "surface": [
           {
            "colorbar": {
             "outlinewidth": 0,
             "ticks": ""
            },
            "colorscale": [
             [
              0,
              "#0d0887"
             ],
             [
              0.1111111111111111,
              "#46039f"
             ],
             [
              0.2222222222222222,
              "#7201a8"
             ],
             [
              0.3333333333333333,
              "#9c179e"
             ],
             [
              0.4444444444444444,
              "#bd3786"
             ],
             [
              0.5555555555555556,
              "#d8576b"
             ],
             [
              0.6666666666666666,
              "#ed7953"
             ],
             [
              0.7777777777777778,
              "#fb9f3a"
             ],
             [
              0.8888888888888888,
              "#fdca26"
             ],
             [
              1,
              "#f0f921"
             ]
            ],
            "type": "surface"
           }
          ],
          "table": [
           {
            "cells": {
             "fill": {
              "color": "#EBF0F8"
             },
             "line": {
              "color": "white"
             }
            },
            "header": {
             "fill": {
              "color": "#C8D4E3"
             },
             "line": {
              "color": "white"
             }
            },
            "type": "table"
           }
          ]
         },
         "layout": {
          "annotationdefaults": {
           "arrowcolor": "#2a3f5f",
           "arrowhead": 0,
           "arrowwidth": 1
          },
          "autotypenumbers": "strict",
          "coloraxis": {
           "colorbar": {
            "outlinewidth": 0,
            "ticks": ""
           }
          },
          "colorscale": {
           "diverging": [
            [
             0,
             "#8e0152"
            ],
            [
             0.1,
             "#c51b7d"
            ],
            [
             0.2,
             "#de77ae"
            ],
            [
             0.3,
             "#f1b6da"
            ],
            [
             0.4,
             "#fde0ef"
            ],
            [
             0.5,
             "#f7f7f7"
            ],
            [
             0.6,
             "#e6f5d0"
            ],
            [
             0.7,
             "#b8e186"
            ],
            [
             0.8,
             "#7fbc41"
            ],
            [
             0.9,
             "#4d9221"
            ],
            [
             1,
             "#276419"
            ]
           ],
           "sequential": [
            [
             0,
             "#0d0887"
            ],
            [
             0.1111111111111111,
             "#46039f"
            ],
            [
             0.2222222222222222,
             "#7201a8"
            ],
            [
             0.3333333333333333,
             "#9c179e"
            ],
            [
             0.4444444444444444,
             "#bd3786"
            ],
            [
             0.5555555555555556,
             "#d8576b"
            ],
            [
             0.6666666666666666,
             "#ed7953"
            ],
            [
             0.7777777777777778,
             "#fb9f3a"
            ],
            [
             0.8888888888888888,
             "#fdca26"
            ],
            [
             1,
             "#f0f921"
            ]
           ],
           "sequentialminus": [
            [
             0,
             "#0d0887"
            ],
            [
             0.1111111111111111,
             "#46039f"
            ],
            [
             0.2222222222222222,
             "#7201a8"
            ],
            [
             0.3333333333333333,
             "#9c179e"
            ],
            [
             0.4444444444444444,
             "#bd3786"
            ],
            [
             0.5555555555555556,
             "#d8576b"
            ],
            [
             0.6666666666666666,
             "#ed7953"
            ],
            [
             0.7777777777777778,
             "#fb9f3a"
            ],
            [
             0.8888888888888888,
             "#fdca26"
            ],
            [
             1,
             "#f0f921"
            ]
           ]
          },
          "colorway": [
           "#636efa",
           "#EF553B",
           "#00cc96",
           "#ab63fa",
           "#FFA15A",
           "#19d3f3",
           "#FF6692",
           "#B6E880",
           "#FF97FF",
           "#FECB52"
          ],
          "font": {
           "color": "#2a3f5f"
          },
          "geo": {
           "bgcolor": "white",
           "lakecolor": "white",
           "landcolor": "#E5ECF6",
           "showlakes": true,
           "showland": true,
           "subunitcolor": "white"
          },
          "hoverlabel": {
           "align": "left"
          },
          "hovermode": "closest",
          "mapbox": {
           "style": "light"
          },
          "paper_bgcolor": "white",
          "plot_bgcolor": "#E5ECF6",
          "polar": {
           "angularaxis": {
            "gridcolor": "white",
            "linecolor": "white",
            "ticks": ""
           },
           "bgcolor": "#E5ECF6",
           "radialaxis": {
            "gridcolor": "white",
            "linecolor": "white",
            "ticks": ""
           }
          },
          "scene": {
           "xaxis": {
            "backgroundcolor": "#E5ECF6",
            "gridcolor": "white",
            "gridwidth": 2,
            "linecolor": "white",
            "showbackground": true,
            "ticks": "",
            "zerolinecolor": "white"
           },
           "yaxis": {
            "backgroundcolor": "#E5ECF6",
            "gridcolor": "white",
            "gridwidth": 2,
            "linecolor": "white",
            "showbackground": true,
            "ticks": "",
            "zerolinecolor": "white"
           },
           "zaxis": {
            "backgroundcolor": "#E5ECF6",
            "gridcolor": "white",
            "gridwidth": 2,
            "linecolor": "white",
            "showbackground": true,
            "ticks": "",
            "zerolinecolor": "white"
           }
          },
          "shapedefaults": {
           "line": {
            "color": "#2a3f5f"
           }
          },
          "ternary": {
           "aaxis": {
            "gridcolor": "white",
            "linecolor": "white",
            "ticks": ""
           },
           "baxis": {
            "gridcolor": "white",
            "linecolor": "white",
            "ticks": ""
           },
           "bgcolor": "#E5ECF6",
           "caxis": {
            "gridcolor": "white",
            "linecolor": "white",
            "ticks": ""
           }
          },
          "title": {
           "x": 0.05
          },
          "xaxis": {
           "automargin": true,
           "gridcolor": "white",
           "linecolor": "white",
           "ticks": "",
           "title": {
            "standoff": 15
           },
           "zerolinecolor": "white",
           "zerolinewidth": 2
          },
          "yaxis": {
           "automargin": true,
           "gridcolor": "white",
           "linecolor": "white",
           "ticks": "",
           "title": {
            "standoff": 15
           },
           "zerolinecolor": "white",
           "zerolinewidth": 2
          }
         }
        },
        "title": {
         "text": "Soil"
        },
        "xaxis": {
         "anchor": "y",
         "autorange": true,
         "domain": [
          0,
          1
         ],
         "range": [
          -0.5,
          4.5
         ],
         "title": {
          "text": "chemical"
         },
         "type": "category"
        },
        "yaxis": {
         "anchor": "x",
         "autorange": true,
         "domain": [
          0,
          1
         ],
         "range": [
          0,
          0.7088977054901293
         ],
         "title": {
          "text": "risk"
         },
         "type": "linear"
        }
       }
      },
      "image/png": "[encoded data removed]",
      "text/html": [
       "<div>                            <div id=\"48dd4894-9a08-469f-bd26-5d23f1452764\" class=\"plotly-graph-div\" style=\"height:525px; width:100%;\"></div>            <script type=\"text/javascript\">                require([\"plotly\"], function(Plotly) {                    window.PLOTLYENV=window.PLOTLYENV || {};                                    if (document.getElementById(\"48dd4894-9a08-469f-bd26-5d23f1452764\")) {                    Plotly.newPlot(                        \"48dd4894-9a08-469f-bd26-5d23f1452764\",                        [{\"alignmentgroup\":\"True\",\"hovertemplate\":\"chemical=%{x}<br>risk=%{y}<extra></extra>\",\"legendgroup\":\"\",\"marker\":{\"color\":\"#636efa\",\"pattern\":{\"shape\":\"\"}},\"name\":\"\",\"offsetgroup\":\"\",\"orientation\":\"v\",\"showlegend\":false,\"textposition\":\"auto\",\"x\":[\"Copper\",\"Cadmium\",\"Glufosinate ammonium\",\"Zinc\",\"Nickel\"],\"xaxis\":\"x\",\"y\":[0.6734528202156228,0.3453375539177739,0.34336689056634195,0.3365668977226758,0.22484380353277134],\"yaxis\":\"y\",\"type\":\"bar\"}],                        {\"template\":{\"data\":{\"histogram2dcontour\":[{\"type\":\"histogram2dcontour\",\"colorbar\":{\"outlinewidth\":0,\"ticks\":\"\"},\"colorscale\":[[0.0,\"#0d0887\"],[0.1111111111111111,\"#46039f\"],[0.2222222222222222,\"#7201a8\"],[0.3333333333333333,\"#9c179e\"],[0.4444444444444444,\"#bd3786\"],[0.5555555555555556,\"#d8576b\"],[0.6666666666666666,\"#ed7953\"],[0.7777777777777778,\"#fb9f3a\"],[0.8888888888888888,\"#fdca26\"],[1.0,\"#f0f921\"]]}],\"choropleth\":[{\"type\":\"choropleth\",\"colorbar\":{\"outlinewidth\":0,\"ticks\":\"\"}}],\"histogram2d\":[{\"type\":\"histogram2d\",\"colorbar\":{\"outlinewidth\":0,\"ticks\":\"\"},\"colorscale\":[[0.0,\"#0d0887\"],[0.1111111111111111,\"#46039f\"],[0.2222222222222222,\"#7201a8\"],[0.3333333333333333,\"#9c179e\"],[0.4444444444444444,\"#bd3786\"],[0.5555555555555556,\"#d8576b\"],[0.6666666666666666,\"#ed7953\"],[0.7777777777777778,\"#fb9f3a\"],[0.8888888888888888,\"#fdca26\"],[1.0,\"#f0f921\"]]}],\"heatmap\":[{\"type\":\"heatmap\",\"colorbar\":{\"outlinewidth\":0,\"ticks\":\"\"},\"colorscale\":[[0.0,\"#0d0887\"],[0.1111111111111111,\"#46039f\"],[0.2222222222222222,\"#7201a8\"],[0.3333333333333333,\"#9c179e\"],[0.4444444444444444,\"#bd3786\"],[0.5555555555555556,\"#d8576b\"],[0.6666666666666666,\"#ed7953\"],[0.7777777777777778,\"#fb9f3a\"],[0.8888888888888888,\"#fdca26\"],[1.0,\"#f0f921\"]]}],\"heatmapgl\":[{\"type\":\"heatmapgl\",\"colorbar\":{\"outlinewidth\":0,\"ticks\":\"\"},\"colorscale\":[[0.0,\"#0d0887\"],[0.1111111111111111,\"#46039f\"],[0.2222222222222222,\"#7201a8\"],[0.3333333333333333,\"#9c179e\"],[0.4444444444444444,\"#bd3786\"],[0.5555555555555556,\"#d8576b\"],[0.6666666666666666,\"#ed7953\"],[0.7777777777777778,\"#fb9f3a\"],[0.8888888888888888,\"#fdca26\"],[1.0,\"#f0f921\"]]}],\"contourcarpet\":[{\"type\":\"contourcarpet\",\"colorbar\":{\"outlinewidth\":0,\"ticks\":\"\"}}],\"contour\":[{\"type\":\"contour\",\"colorbar\":{\"outlinewidth\":0,\"ticks\":\"\"},\"colorscale\":[[0.0,\"#0d0887\"],[0.1111111111111111,\"#46039f\"],[0.2222222222222222,\"#7201a8\"],[0.3333333333333333,\"#9c179e\"],[0.4444444444444444,\"#bd3786\"],[0.5555555555555556,\"#d8576b\"],[0.6666666666666666,\"#ed7953\"],[0.7777777777777778,\"#fb9f3a\"],[0.8888888888888888,\"#fdca26\"],[1.0,\"#f0f921\"]]}],\"surface\":[{\"type\":\"surface\",\"colorbar\":{\"outlinewidth\":0,\"ticks\":\"\"},\"colorscale\":[[0.0,\"#0d0887\"],[0.1111111111111111,\"#46039f\"],[0.2222222222222222,\"#7201a8\"],[0.3333333333333333,\"#9c179e\"],[0.4444444444444444,\"#bd3786\"],[0.5555555555555556,\"#d8576b\"],[0.6666666666666666,\"#ed7953\"],[0.7777777777777778,\"#fb9f3a\"],[0.8888888888888888,\"#fdca26\"],[1.0,\"#f0f921\"]]}],\"mesh3d\":[{\"type\":\"mesh3d\",\"colorbar\":{\"outlinewidth\":0,\"ticks\":\"\"}}],\"scatter\":[{\"fillpattern\":{\"fillmode\":\"overlay\",\"size\":10,\"solidity\":0.2},\"type\":\"scatter\"}],\"parcoords\":[{\"type\":\"parcoords\",\"line\":{\"colorbar\":{\"outlinewidth\":0,\"ticks\":\"\"}}}],\"scatterpolargl\":[{\"type\":\"scatterpolargl\",\"marker\":{\"colorbar\":{\"outlinewidth\":0,\"ticks\":\"\"}}}],\"bar\":[{\"error_x\":{\"color\":\"#2a3f5f\"},\"error_y\":{\"color\":\"#2a3f5f\"},\"marker\":{\"line\":{\"color\":\"#E5ECF6\",\"width\":0.5},\"pattern\":{\"fillmode\":\"overlay\",\"size\":10,\"solidity\":0.2}},\"type\":\"bar\"}],\"scattergeo\":[{\"type\":\"scattergeo\",\"marker\":{\"colorbar\":{\"outlinewidth\":0,\"ticks\":\"\"}}}],\"scatterpolar\":[{\"type\":\"scatterpolar\",\"marker\":{\"colorbar\":{\"outlinewidth\":0,\"ticks\":\"\"}}}],\"histogram\":[{\"marker\":{\"pattern\":{\"fillmode\":\"overlay\",\"size\":10,\"solidity\":0.2}},\"type\":\"histogram\"}],\"scattergl\":[{\"type\":\"scattergl\",\"marker\":{\"colorbar\":{\"outlinewidth\":0,\"ticks\":\"\"}}}],\"scatter3d\":[{\"type\":\"scatter3d\",\"line\":{\"colorbar\":{\"outlinewidth\":0,\"ticks\":\"\"}},\"marker\":{\"colorbar\":{\"outlinewidth\":0,\"ticks\":\"\"}}}],\"scattermapbox\":[{\"type\":\"scattermapbox\",\"marker\":{\"colorbar\":{\"outlinewidth\":0,\"ticks\":\"\"}}}],\"scatterternary\":[{\"type\":\"scatterternary\",\"marker\":{\"colorbar\":{\"outlinewidth\":0,\"ticks\":\"\"}}}],\"scattercarpet\":[{\"type\":\"scattercarpet\",\"marker\":{\"colorbar\":{\"outlinewidth\":0,\"ticks\":\"\"}}}],\"carpet\":[{\"aaxis\":{\"endlinecolor\":\"#2a3f5f\",\"gridcolor\":\"white\",\"linecolor\":\"white\",\"minorgridcolor\":\"white\",\"startlinecolor\":\"#2a3f5f\"},\"baxis\":{\"endlinecolor\":\"#2a3f5f\",\"gridcolor\":\"white\",\"linecolor\":\"white\",\"minorgridcolor\":\"white\",\"startlinecolor\":\"#2a3f5f\"},\"type\":\"carpet\"}],\"table\":[{\"cells\":{\"fill\":{\"color\":\"#EBF0F8\"},\"line\":{\"color\":\"white\"}},\"header\":{\"fill\":{\"color\":\"#C8D4E3\"},\"line\":{\"color\":\"white\"}},\"type\":\"table\"}],\"barpolar\":[{\"marker\":{\"line\":{\"color\":\"#E5ECF6\",\"width\":0.5},\"pattern\":{\"fillmode\":\"overlay\",\"size\":10,\"solidity\":0.2}},\"type\":\"barpolar\"}],\"pie\":[{\"automargin\":true,\"type\":\"pie\"}]},\"layout\":{\"autotypenumbers\":\"strict\",\"colorway\":[\"#636efa\",\"#EF553B\",\"#00cc96\",\"#ab63fa\",\"#FFA15A\",\"#19d3f3\",\"#FF6692\",\"#B6E880\",\"#FF97FF\",\"#FECB52\"],\"font\":{\"color\":\"#2a3f5f\"},\"hovermode\":\"closest\",\"hoverlabel\":{\"align\":\"left\"},\"paper_bgcolor\":\"white\",\"plot_bgcolor\":\"#E5ECF6\",\"polar\":{\"bgcolor\":\"#E5ECF6\",\"angularaxis\":{\"gridcolor\":\"white\",\"linecolor\":\"white\",\"ticks\":\"\"},\"radialaxis\":{\"gridcolor\":\"white\",\"linecolor\":\"white\",\"ticks\":\"\"}},\"ternary\":{\"bgcolor\":\"#E5ECF6\",\"aaxis\":{\"gridcolor\":\"white\",\"linecolor\":\"white\",\"ticks\":\"\"},\"baxis\":{\"gridcolor\":\"white\",\"linecolor\":\"white\",\"ticks\":\"\"},\"caxis\":{\"gridcolor\":\"white\",\"linecolor\":\"white\",\"ticks\":\"\"}},\"coloraxis\":{\"colorbar\":{\"outlinewidth\":0,\"ticks\":\"\"}},\"colorscale\":{\"sequential\":[[0.0,\"#0d0887\"],[0.1111111111111111,\"#46039f\"],[0.2222222222222222,\"#7201a8\"],[0.3333333333333333,\"#9c179e\"],[0.4444444444444444,\"#bd3786\"],[0.5555555555555556,\"#d8576b\"],[0.6666666666666666,\"#ed7953\"],[0.7777777777777778,\"#fb9f3a\"],[0.8888888888888888,\"#fdca26\"],[1.0,\"#f0f921\"]],\"sequentialminus\":[[0.0,\"#0d0887\"],[0.1111111111111111,\"#46039f\"],[0.2222222222222222,\"#7201a8\"],[0.3333333333333333,\"#9c179e\"],[0.4444444444444444,\"#bd3786\"],[0.5555555555555556,\"#d8576b\"],[0.6666666666666666,\"#ed7953\"],[0.7777777777777778,\"#fb9f3a\"],[0.8888888888888888,\"#fdca26\"],[1.0,\"#f0f921\"]],\"diverging\":[[0,\"#8e0152\"],[0.1,\"#c51b7d\"],[0.2,\"#de77ae\"],[0.3,\"#f1b6da\"],[0.4,\"#fde0ef\"],[0.5,\"#f7f7f7\"],[0.6,\"#e6f5d0\"],[0.7,\"#b8e186\"],[0.8,\"#7fbc41\"],[0.9,\"#4d9221\"],[1,\"#276419\"]]},\"xaxis\":{\"gridcolor\":\"white\",\"linecolor\":\"white\",\"ticks\":\"\",\"title\":{\"standoff\":15},\"zerolinecolor\":\"white\",\"automargin\":true,\"zerolinewidth\":2},\"yaxis\":{\"gridcolor\":\"white\",\"linecolor\":\"white\",\"ticks\":\"\",\"title\":{\"standoff\":15},\"zerolinecolor\":\"white\",\"automargin\":true,\"zerolinewidth\":2},\"scene\":{\"xaxis\":{\"backgroundcolor\":\"#E5ECF6\",\"gridcolor\":\"white\",\"linecolor\":\"white\",\"showbackground\":true,\"ticks\":\"\",\"zerolinecolor\":\"white\",\"gridwidth\":2},\"yaxis\":{\"backgroundcolor\":\"#E5ECF6\",\"gridcolor\":\"white\",\"linecolor\":\"white\",\"showbackground\":true,\"ticks\":\"\",\"zerolinecolor\":\"white\",\"gridwidth\":2},\"zaxis\":{\"backgroundcolor\":\"#E5ECF6\",\"gridcolor\":\"white\",\"linecolor\":\"white\",\"showbackground\":true,\"ticks\":\"\",\"zerolinecolor\":\"white\",\"gridwidth\":2}},\"shapedefaults\":{\"line\":{\"color\":\"#2a3f5f\"}},\"annotationdefaults\":{\"arrowcolor\":\"#2a3f5f\",\"arrowhead\":0,\"arrowwidth\":1},\"geo\":{\"bgcolor\":\"white\",\"landcolor\":\"#E5ECF6\",\"subunitcolor\":\"white\",\"showland\":true,\"showlakes\":true,\"lakecolor\":\"white\"},\"title\":{\"x\":0.05},\"mapbox\":{\"style\":\"light\"}}},\"xaxis\":{\"anchor\":\"y\",\"domain\":[0.0,1.0],\"title\":{\"text\":\"chemical\"}},\"yaxis\":{\"anchor\":\"x\",\"domain\":[0.0,1.0],\"title\":{\"text\":\"risk\"}},\"legend\":{\"tracegroupgap\":0},\"title\":{\"text\":\"Soil\"},\"barmode\":\"relative\"},                        {\"responsive\": true}                    ).then(function(){\n",
       "                            \n",
       "var gd = document.getElementById('48dd4894-9a08-469f-bd26-5d23f1452764');\n",
       "var x = new MutationObserver(function (mutations, observer) {{\n",
       "        var display = window.getComputedStyle(gd).display;\n",
       "        if (!display || display === 'none') {{\n",
       "            console.log([gd, 'removed!']);\n",
       "            Plotly.purge(gd);\n",
       "            observer.disconnect();\n",
       "        }}\n",
       "}});\n",
       "\n",
       "// Listen for the removal of the full notebook cells\n",
       "var notebookContainer = gd.closest('#notebook-container');\n",
       "if (notebookContainer) {{\n",
       "    x.observe(notebookContainer, {childList: true});\n",
       "}}\n",
       "\n",
       "// Listen for the clearing of the current output cell\n",
       "var outputEl = gd.closest('.output');\n",
       "if (outputEl) {{\n",
       "    x.observe(outputEl, {childList: true});\n",
       "}}\n",
       "\n",
       "                        })                };                });            </script>        </div>"
      ]
     },
     "metadata": {},
     "output_type": "display_data"
    }
   ],
   "source": [
    "df_wd = pd.DataFrame({})\n",
    "\n",
    "# Loop through the compartments and chemicals\n",
    "for comp, chemicals in species_by_chemical.items():\n",
    "  # Empty dataframe to store risk values in\n",
    "  df_wd_ = pd.DataFrame({'chemical': chemicals.keys(),\n",
    "                         'js': np.empty(len(chemicals)),\n",
    "                         'risk': np.empty(len(chemicals)),\n",
    "                         'compartment': comp})\n",
    "  # Loop over the chemicals\n",
    "  for chem_name, species in chemicals.items():\n",
    "    # Filter the dataframe just for this chemical\n",
    "    df_ = df_values[(df_values['compartment'] == comp) & (df_values['chemical'] == chem_name)].reset_index()\n",
    "    # The x space to generate the PDFs over\n",
    "    x_grid = np.linspace(df_['conc'].min(), df_['conc'].max(), 1000)\n",
    "    # Create a histogram to get a PDF for the MEC and PSSDs\n",
    "    mec_pdf, _ = np.histogram(df_[df_['endpoint'] == 'MEC']['conc'], bins=x_grid)\n",
    "    pssd_pdf, _ = np.histogram(df_[df_['endpoint'] == 'PSSD']['conc'], bins=x_grid)\n",
    "    # Get the JS distance between MEC and PSSD datapoints\n",
    "    js = scipy.spatial.distance.jensenshannon(mec_pdf, pssd_pdf)\n",
    "    # Add to our dataframe\n",
    "    df_wd_.loc[df_wd_['chemical'] == chem_name, 'js'] = js\n",
    "    df_wd_.loc[df_wd_['chemical'] == chem_name, 'risk'] = 1 - js\n",
    "    \n",
    "  # Combine water and soil into one df  \n",
    "  df_wd = pd.concat([df_wd, df_wd_])\n",
    "\n",
    "# Sort by risk and plot\n",
    "df_wd = df_wd.sort_values('risk', ascending=False)\n",
    "\n",
    "fig = px.bar(df_wd[df_wd['compartment'] == 'water'], x='chemical', y='risk', title='Water')\n",
    "fig.show()\n",
    "\n",
    "fig = px.bar(df_wd[df_wd['compartment'] == 'soil'], x='chemical', y='risk', title='Soil')\n",
    "fig.show()"
   ]
  },
  {
   "cell_type": "markdown",
   "metadata": {},
   "source": [
    "## Publication-friendly PSSD-MEC plots\n",
    "\n",
    "Now we will recreate the PSSD-MEC comparison plots from above, but tidying them up to be a little more publication-friendly. We will also use the risk ranking to plot them in risk order, hence we are doing this after the risk ranking."
   ]
  },
  {
   "cell_type": "code",
   "execution_count": 42,
   "metadata": {},
   "outputs": [
    {
     "data": {
      "image/png": "[encoded data removed]",
      "text/plain": [
       "<Figure size 800x525 with 12 Axes>"
      ]
     },
     "metadata": {},
     "output_type": "display_data"
    }
   ],
   "source": [
    "# Settings\n",
    "title_fontsize = 9\n",
    "\n",
    "def plot_pssd_mec(comp):\n",
    "    \n",
    "    chemicals = df_risk[df_risk['compartment'] == comp]['chemical']\n",
    "    n_chemicals = len(chemicals)\n",
    "    n_subplots_final_row = n_chemicals % 4\n",
    "    n_rows = n_chemicals // 4 + 1\n",
    "    plot_height = n_rows * 1.75\n",
    "\n",
    "    # Water\n",
    "    fig, axs = plt.subplots(n_rows, 4, sharex=True, sharey=True, figsize=(8, plot_height))\n",
    "    fig.subplots_adjust(hspace=0.1, wspace=0.1)\n",
    "    for i in range(n_subplots_final_row, 4):\n",
    "        axs[-1][i].set_axis_off()\n",
    "\n",
    "    # Loop over the axes\n",
    "    for i, ax in enumerate(axs.flatten()):\n",
    "        if i < n_chemicals:\n",
    "            chem = df_risk[df_risk['compartment'] == comp].iloc[i]['chemical']\n",
    "            df_pssd = df_dists[((df_dists['compartment'] == comp) &\n",
    "                                (df_dists['chemical'] == chem) &\n",
    "                                (df_dists['endpoint'] == 'PSSD'))]\n",
    "            df_mec = df_dists[((df_dists['compartment'] == comp) &\n",
    "                                (df_dists['chemical'] == chem) &\n",
    "                                (df_dists['endpoint'] == 'MEC'))]\n",
    "            ax.plot(df_pssd['conc'], df_pssd['cdf'], c='darkgreen', lw=2, zorder=2)\n",
    "            ax.plot(df_mec['conc'], df_mec['cdf'], lw=2, zorder=1)\n",
    "            ax.set_title(chem, fontsize=title_fontsize, y=1.0, pad=-14, path_effects=[pe.withStroke(linewidth=4, foreground='white')])\n",
    "\n",
    "            hc5_min = df_hc5[(df_hc5['compartment'] == comp) & (df_hc5['chemical'] == chem)]['tox_value'].min()\n",
    "            hc5_max = df_hc5[(df_hc5['compartment'] == comp) & (df_hc5['chemical'] == chem)]['tox_value'].max()\n",
    "            ax.add_patch(Rectangle((hc5_min, -0.05), width=hc5_max - hc5_min, zorder=0, height=1.1, facecolor='lightgray'))\n",
    "\n",
    "            # Scale and axes\n",
    "            ax.set_xscale('log')\n",
    "            ax.set_ylim(-0.05, 1.05)\n",
    "            ax.set_yticks([])\n",
    "            if i > n_chemicals - n_subplots_final_row - 3:\n",
    "                ax.xaxis.set_tick_params(which='both', labelbottom=True)\n",
    "\n",
    "    legend_handles = [\n",
    "        Line2D([0], [0], color='darkgreen', label='PSSD', lw=2),\n",
    "        Line2D([0], [0], label='MEC', lw=2),\n",
    "        Patch(facecolor='lightgray', label='PNEC distribution range'),\n",
    "    ]\n",
    "    fig.legend(handles=legend_handles,\n",
    "               bbox_to_anchor=(0.58 if comp == 'water' else 0.35,\n",
    "                               0.3 if comp == 'soil' else 0.22),\n",
    "               loc='center left',\n",
    "               ncol=1 if comp == 'water' else 3)\n",
    "    fig.supylabel('Cumulative probability', x=0.09)\n",
    "    fig.supxlabel(f'Concentration ({units[comp]})')\n",
    "    fig.suptitle(comp.capitalize(), y=0.96 if comp == 'soil' else 0.925)\n",
    "    fig.savefig(f'{comp}_MEC-PSSD.png', dpi=400, bbox_inches='tight')\n",
    "    \n",
    "plot_pssd_mec('water')"
   ]
  }
 ],
 "metadata": {
  "kernelspec": {
   "display_name": "Python [conda env:borneo]",
   "language": "python",
   "name": "conda-env-borneo-py"
  },
  "language_info": {
   "codemirror_mode": {
    "name": "ipython",
    "version": 3
   },
   "file_extension": ".py",
   "mimetype": "text/x-python",
   "name": "python",
   "nbconvert_exporter": "python",
   "pygments_lexer": "ipython3",
   "version": "3.11.0"
  }
 },
 "nbformat": 4,
 "nbformat_minor": 4
}
